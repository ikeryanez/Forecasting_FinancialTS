{
 "cells": [
  {
   "cell_type": "code",
   "execution_count": 22,
   "metadata": {},
   "outputs": [],
   "source": [
    "import pandas as pd\n",
    "import yfinance as yf"
   ]
  },
  {
   "cell_type": "markdown",
   "metadata": {},
   "source": [
    "# Currencies"
   ]
  },
  {
   "cell_type": "code",
   "execution_count": 23,
   "metadata": {},
   "outputs": [
    {
     "name": "stderr",
     "output_type": "stream",
     "text": [
      "[*********************100%%**********************]  1 of 1 completed\n",
      "[*********************100%%**********************]  1 of 1 completed\n",
      "[*********************100%%**********************]  1 of 1 completed\n"
     ]
    }
   ],
   "source": [
    "# Obtener los datos de cotización para los símbolos especificados\n",
    "eurusd = yf.download('EURUSD=X', start=\"2000-01-01\", end=\"2024-01-01\", period=\"1d\")\n",
    "jpyusd = yf.download('JPYUSD=X', start=\"2000-01-01\", end=\"2024-01-01\", period=\"1d\")\n",
    "gbpusd = yf.download('GBPUSD=X', start=\"2000-01-01\", end=\"2024-01-01\", period=\"1d\")"
   ]
  },
  {
   "cell_type": "code",
   "execution_count": 24,
   "metadata": {},
   "outputs": [],
   "source": [
    "# Drop columns except 'Close' and rename 'Close' column\n",
    "eurusd = eurusd[['Close']].rename(columns={'Close': 'eurusd'})\n",
    "jpyusd = jpyusd[['Close']].rename(columns={'Close': 'jpyusd'})\n",
    "gbpusd = gbpusd[['Close']].rename(columns={'Close': 'gbpusd'})"
   ]
  },
  {
   "cell_type": "code",
   "execution_count": 25,
   "metadata": {},
   "outputs": [
    {
     "data": {
      "text/html": [
       "<div>\n",
       "<style scoped>\n",
       "    .dataframe tbody tr th:only-of-type {\n",
       "        vertical-align: middle;\n",
       "    }\n",
       "\n",
       "    .dataframe tbody tr th {\n",
       "        vertical-align: top;\n",
       "    }\n",
       "\n",
       "    .dataframe thead th {\n",
       "        text-align: right;\n",
       "    }\n",
       "</style>\n",
       "<table border=\"1\" class=\"dataframe\">\n",
       "  <thead>\n",
       "    <tr style=\"text-align: right;\">\n",
       "      <th></th>\n",
       "      <th>gbpusd</th>\n",
       "    </tr>\n",
       "    <tr>\n",
       "      <th>Date</th>\n",
       "      <th></th>\n",
       "    </tr>\n",
       "  </thead>\n",
       "  <tbody>\n",
       "    <tr>\n",
       "      <th>2003-12-01</th>\n",
       "      <td>1.718597</td>\n",
       "    </tr>\n",
       "    <tr>\n",
       "      <th>2003-12-02</th>\n",
       "      <td>1.730313</td>\n",
       "    </tr>\n",
       "    <tr>\n",
       "      <th>2003-12-03</th>\n",
       "      <td>1.728101</td>\n",
       "    </tr>\n",
       "    <tr>\n",
       "      <th>2003-12-04</th>\n",
       "      <td>1.720697</td>\n",
       "    </tr>\n",
       "    <tr>\n",
       "      <th>2003-12-05</th>\n",
       "      <td>1.733102</td>\n",
       "    </tr>\n",
       "    <tr>\n",
       "      <th>...</th>\n",
       "      <td>...</td>\n",
       "    </tr>\n",
       "    <tr>\n",
       "      <th>2023-12-25</th>\n",
       "      <td>1.267700</td>\n",
       "    </tr>\n",
       "    <tr>\n",
       "      <th>2023-12-26</th>\n",
       "      <td>1.270487</td>\n",
       "    </tr>\n",
       "    <tr>\n",
       "      <th>2023-12-27</th>\n",
       "      <td>1.272718</td>\n",
       "    </tr>\n",
       "    <tr>\n",
       "      <th>2023-12-28</th>\n",
       "      <td>1.280082</td>\n",
       "    </tr>\n",
       "    <tr>\n",
       "      <th>2023-12-29</th>\n",
       "      <td>1.273399</td>\n",
       "    </tr>\n",
       "  </tbody>\n",
       "</table>\n",
       "<p>5223 rows × 1 columns</p>\n",
       "</div>"
      ],
      "text/plain": [
       "              gbpusd\n",
       "Date                \n",
       "2003-12-01  1.718597\n",
       "2003-12-02  1.730313\n",
       "2003-12-03  1.728101\n",
       "2003-12-04  1.720697\n",
       "2003-12-05  1.733102\n",
       "...              ...\n",
       "2023-12-25  1.267700\n",
       "2023-12-26  1.270487\n",
       "2023-12-27  1.272718\n",
       "2023-12-28  1.280082\n",
       "2023-12-29  1.273399\n",
       "\n",
       "[5223 rows x 1 columns]"
      ]
     },
     "execution_count": 25,
     "metadata": {},
     "output_type": "execute_result"
    }
   ],
   "source": [
    "gbpusd"
   ]
  },
  {
   "cell_type": "code",
   "execution_count": 26,
   "metadata": {},
   "outputs": [],
   "source": [
    "currencies = [eurusd, jpyusd, gbpusd]"
   ]
  },
  {
   "cell_type": "markdown",
   "metadata": {},
   "source": [
    "## Concat"
   ]
  },
  {
   "cell_type": "markdown",
   "metadata": {},
   "source": [
    "# Indexes"
   ]
  },
  {
   "cell_type": "code",
   "execution_count": 27,
   "metadata": {},
   "outputs": [
    {
     "name": "stderr",
     "output_type": "stream",
     "text": [
      "[*********************100%%**********************]  1 of 1 completed\n",
      "[*********************100%%**********************]  1 of 1 completed\n",
      "[*********************100%%**********************]  1 of 1 completed\n",
      "[*********************100%%**********************]  1 of 1 completed\n"
     ]
    }
   ],
   "source": [
    "nq = yf.download('NQ=F', start=\"2000-01-01\", end=\"2024-01-01\", period=\"1d\")\n",
    "sp500 = yf.download('^GSPC', start=\"2000-01-01\", end=\"2024-01-01\", period=\"1d\")\n",
    "nikkei = yf.download('^N225', start=\"2000-01-01\", end=\"2024-01-01\", period=\"1d\")\n",
    "ftse = yf.download('^FTSE', start=\"2000-01-01\", end=\"2024-01-01\", period=\"1d\")\n"
   ]
  },
  {
   "cell_type": "code",
   "execution_count": 28,
   "metadata": {},
   "outputs": [],
   "source": [
    "nq = nq[['Close']].rename(columns={'Close': 'nq'})\n",
    "sp500 = sp500[['Close']].rename(columns={'Close': 'sp500'})\n",
    "nikkei = nikkei[['Close']].rename(columns={'Close': 'nikkei'})\n",
    "ftse = ftse[['Close']].rename(columns={'Close': 'ftse'})"
   ]
  },
  {
   "cell_type": "code",
   "execution_count": 29,
   "metadata": {},
   "outputs": [],
   "source": [
    "indexes = [nq, sp500, nikkei, ftse]"
   ]
  },
  {
   "cell_type": "code",
   "execution_count": 30,
   "metadata": {},
   "outputs": [],
   "source": [
    "df_indexes = pd.concat([nq, sp500, nikkei, ftse], axis=1, join='outer')"
   ]
  },
  {
   "cell_type": "code",
   "execution_count": 32,
   "metadata": {},
   "outputs": [
    {
     "data": {
      "text/html": [
       "<div>\n",
       "<style scoped>\n",
       "    .dataframe tbody tr th:only-of-type {\n",
       "        vertical-align: middle;\n",
       "    }\n",
       "\n",
       "    .dataframe tbody tr th {\n",
       "        vertical-align: top;\n",
       "    }\n",
       "\n",
       "    .dataframe thead th {\n",
       "        text-align: right;\n",
       "    }\n",
       "</style>\n",
       "<table border=\"1\" class=\"dataframe\">\n",
       "  <thead>\n",
       "    <tr style=\"text-align: right;\">\n",
       "      <th></th>\n",
       "      <th>nq</th>\n",
       "    </tr>\n",
       "    <tr>\n",
       "      <th>Date</th>\n",
       "      <th></th>\n",
       "    </tr>\n",
       "  </thead>\n",
       "  <tbody>\n",
       "    <tr>\n",
       "      <th>2000-09-18</th>\n",
       "      <td>3653.50</td>\n",
       "    </tr>\n",
       "    <tr>\n",
       "      <th>2000-09-19</th>\n",
       "      <td>3804.00</td>\n",
       "    </tr>\n",
       "    <tr>\n",
       "      <th>2000-09-20</th>\n",
       "      <td>3853.00</td>\n",
       "    </tr>\n",
       "    <tr>\n",
       "      <th>2000-09-21</th>\n",
       "      <td>3765.00</td>\n",
       "    </tr>\n",
       "    <tr>\n",
       "      <th>2000-09-22</th>\n",
       "      <td>3776.00</td>\n",
       "    </tr>\n",
       "    <tr>\n",
       "      <th>...</th>\n",
       "      <td>...</td>\n",
       "    </tr>\n",
       "    <tr>\n",
       "      <th>2023-12-22</th>\n",
       "      <td>16980.00</td>\n",
       "    </tr>\n",
       "    <tr>\n",
       "      <th>2023-12-26</th>\n",
       "      <td>17083.50</td>\n",
       "    </tr>\n",
       "    <tr>\n",
       "      <th>2023-12-27</th>\n",
       "      <td>17113.25</td>\n",
       "    </tr>\n",
       "    <tr>\n",
       "      <th>2023-12-28</th>\n",
       "      <td>17090.50</td>\n",
       "    </tr>\n",
       "    <tr>\n",
       "      <th>2023-12-29</th>\n",
       "      <td>17023.50</td>\n",
       "    </tr>\n",
       "  </tbody>\n",
       "</table>\n",
       "<p>5882 rows × 1 columns</p>\n",
       "</div>"
      ],
      "text/plain": [
       "                  nq\n",
       "Date                \n",
       "2000-09-18   3653.50\n",
       "2000-09-19   3804.00\n",
       "2000-09-20   3853.00\n",
       "2000-09-21   3765.00\n",
       "2000-09-22   3776.00\n",
       "...              ...\n",
       "2023-12-22  16980.00\n",
       "2023-12-26  17083.50\n",
       "2023-12-27  17113.25\n",
       "2023-12-28  17090.50\n",
       "2023-12-29  17023.50\n",
       "\n",
       "[5882 rows x 1 columns]"
      ]
     },
     "execution_count": 32,
     "metadata": {},
     "output_type": "execute_result"
    }
   ],
   "source": [
    "nq"
   ]
  },
  {
   "cell_type": "code",
   "execution_count": 31,
   "metadata": {},
   "outputs": [
    {
     "data": {
      "text/html": [
       "<div>\n",
       "<style scoped>\n",
       "    .dataframe tbody tr th:only-of-type {\n",
       "        vertical-align: middle;\n",
       "    }\n",
       "\n",
       "    .dataframe tbody tr th {\n",
       "        vertical-align: top;\n",
       "    }\n",
       "\n",
       "    .dataframe thead th {\n",
       "        text-align: right;\n",
       "    }\n",
       "</style>\n",
       "<table border=\"1\" class=\"dataframe\">\n",
       "  <thead>\n",
       "    <tr style=\"text-align: right;\">\n",
       "      <th></th>\n",
       "      <th>nq</th>\n",
       "      <th>sp500</th>\n",
       "      <th>nikkei</th>\n",
       "      <th>ftse</th>\n",
       "    </tr>\n",
       "    <tr>\n",
       "      <th>Date</th>\n",
       "      <th></th>\n",
       "      <th></th>\n",
       "      <th></th>\n",
       "      <th></th>\n",
       "    </tr>\n",
       "  </thead>\n",
       "  <tbody>\n",
       "    <tr>\n",
       "      <th>2000-01-03</th>\n",
       "      <td>NaN</td>\n",
       "      <td>1455.219971</td>\n",
       "      <td>NaN</td>\n",
       "      <td>NaN</td>\n",
       "    </tr>\n",
       "    <tr>\n",
       "      <th>2000-01-04</th>\n",
       "      <td>NaN</td>\n",
       "      <td>1399.420044</td>\n",
       "      <td>19002.859375</td>\n",
       "      <td>6665.899902</td>\n",
       "    </tr>\n",
       "    <tr>\n",
       "      <th>2000-01-05</th>\n",
       "      <td>NaN</td>\n",
       "      <td>1402.109985</td>\n",
       "      <td>18542.550781</td>\n",
       "      <td>6535.899902</td>\n",
       "    </tr>\n",
       "    <tr>\n",
       "      <th>2000-01-06</th>\n",
       "      <td>NaN</td>\n",
       "      <td>1403.449951</td>\n",
       "      <td>18168.269531</td>\n",
       "      <td>6447.200195</td>\n",
       "    </tr>\n",
       "    <tr>\n",
       "      <th>2000-01-07</th>\n",
       "      <td>NaN</td>\n",
       "      <td>1441.469971</td>\n",
       "      <td>18193.410156</td>\n",
       "      <td>6504.799805</td>\n",
       "    </tr>\n",
       "    <tr>\n",
       "      <th>...</th>\n",
       "      <td>...</td>\n",
       "      <td>...</td>\n",
       "      <td>...</td>\n",
       "      <td>...</td>\n",
       "    </tr>\n",
       "    <tr>\n",
       "      <th>2023-12-25</th>\n",
       "      <td>NaN</td>\n",
       "      <td>NaN</td>\n",
       "      <td>33254.031250</td>\n",
       "      <td>NaN</td>\n",
       "    </tr>\n",
       "    <tr>\n",
       "      <th>2023-12-26</th>\n",
       "      <td>17083.50</td>\n",
       "      <td>4774.750000</td>\n",
       "      <td>33305.851562</td>\n",
       "      <td>NaN</td>\n",
       "    </tr>\n",
       "    <tr>\n",
       "      <th>2023-12-27</th>\n",
       "      <td>17113.25</td>\n",
       "      <td>4781.580078</td>\n",
       "      <td>33681.238281</td>\n",
       "      <td>7725.000000</td>\n",
       "    </tr>\n",
       "    <tr>\n",
       "      <th>2023-12-28</th>\n",
       "      <td>17090.50</td>\n",
       "      <td>4783.350098</td>\n",
       "      <td>33539.621094</td>\n",
       "      <td>7722.700195</td>\n",
       "    </tr>\n",
       "    <tr>\n",
       "      <th>2023-12-29</th>\n",
       "      <td>17023.50</td>\n",
       "      <td>4769.830078</td>\n",
       "      <td>33464.171875</td>\n",
       "      <td>7733.200195</td>\n",
       "    </tr>\n",
       "  </tbody>\n",
       "</table>\n",
       "<p>6240 rows × 4 columns</p>\n",
       "</div>"
      ],
      "text/plain": [
       "                  nq        sp500        nikkei         ftse\n",
       "Date                                                        \n",
       "2000-01-03       NaN  1455.219971           NaN          NaN\n",
       "2000-01-04       NaN  1399.420044  19002.859375  6665.899902\n",
       "2000-01-05       NaN  1402.109985  18542.550781  6535.899902\n",
       "2000-01-06       NaN  1403.449951  18168.269531  6447.200195\n",
       "2000-01-07       NaN  1441.469971  18193.410156  6504.799805\n",
       "...              ...          ...           ...          ...\n",
       "2023-12-25       NaN          NaN  33254.031250          NaN\n",
       "2023-12-26  17083.50  4774.750000  33305.851562          NaN\n",
       "2023-12-27  17113.25  4781.580078  33681.238281  7725.000000\n",
       "2023-12-28  17090.50  4783.350098  33539.621094  7722.700195\n",
       "2023-12-29  17023.50  4769.830078  33464.171875  7733.200195\n",
       "\n",
       "[6240 rows x 4 columns]"
      ]
     },
     "execution_count": 31,
     "metadata": {},
     "output_type": "execute_result"
    }
   ],
   "source": [
    "df_indexes"
   ]
  },
  {
   "cell_type": "markdown",
   "metadata": {},
   "source": [
    "## Concat"
   ]
  },
  {
   "cell_type": "code",
   "execution_count": 71,
   "metadata": {},
   "outputs": [],
   "source": [
    "df_currencies = pd.concat([eurusd, jpyusd, gbpusd], axis=1)\n"
   ]
  },
  {
   "cell_type": "code",
   "execution_count": 72,
   "metadata": {},
   "outputs": [
    {
     "data": {
      "text/html": [
       "<div>\n",
       "<style scoped>\n",
       "    .dataframe tbody tr th:only-of-type {\n",
       "        vertical-align: middle;\n",
       "    }\n",
       "\n",
       "    .dataframe tbody tr th {\n",
       "        vertical-align: top;\n",
       "    }\n",
       "\n",
       "    .dataframe thead th {\n",
       "        text-align: right;\n",
       "    }\n",
       "</style>\n",
       "<table border=\"1\" class=\"dataframe\">\n",
       "  <thead>\n",
       "    <tr style=\"text-align: right;\">\n",
       "      <th></th>\n",
       "      <th>eurusd</th>\n",
       "      <th>jpyusd</th>\n",
       "      <th>gbpusd</th>\n",
       "    </tr>\n",
       "    <tr>\n",
       "      <th>Date</th>\n",
       "      <th></th>\n",
       "      <th></th>\n",
       "      <th></th>\n",
       "    </tr>\n",
       "  </thead>\n",
       "  <tbody>\n",
       "    <tr>\n",
       "      <th>2000-01-03</th>\n",
       "      <td>NaN</td>\n",
       "      <td>0.009834</td>\n",
       "      <td>NaN</td>\n",
       "    </tr>\n",
       "    <tr>\n",
       "      <th>2000-01-04</th>\n",
       "      <td>NaN</td>\n",
       "      <td>0.009696</td>\n",
       "      <td>NaN</td>\n",
       "    </tr>\n",
       "    <tr>\n",
       "      <th>2000-01-05</th>\n",
       "      <td>NaN</td>\n",
       "      <td>0.009607</td>\n",
       "      <td>NaN</td>\n",
       "    </tr>\n",
       "    <tr>\n",
       "      <th>2000-01-06</th>\n",
       "      <td>NaN</td>\n",
       "      <td>0.009503</td>\n",
       "      <td>NaN</td>\n",
       "    </tr>\n",
       "    <tr>\n",
       "      <th>2000-01-07</th>\n",
       "      <td>NaN</td>\n",
       "      <td>0.009494</td>\n",
       "      <td>NaN</td>\n",
       "    </tr>\n",
       "    <tr>\n",
       "      <th>...</th>\n",
       "      <td>...</td>\n",
       "      <td>...</td>\n",
       "      <td>...</td>\n",
       "    </tr>\n",
       "    <tr>\n",
       "      <th>2023-12-25</th>\n",
       "      <td>1.102657</td>\n",
       "      <td>0.007025</td>\n",
       "      <td>1.267700</td>\n",
       "    </tr>\n",
       "    <tr>\n",
       "      <th>2023-12-26</th>\n",
       "      <td>1.102026</td>\n",
       "      <td>0.007031</td>\n",
       "      <td>1.270487</td>\n",
       "    </tr>\n",
       "    <tr>\n",
       "      <th>2023-12-27</th>\n",
       "      <td>1.104301</td>\n",
       "      <td>0.007019</td>\n",
       "      <td>1.272718</td>\n",
       "    </tr>\n",
       "    <tr>\n",
       "      <th>2023-12-28</th>\n",
       "      <td>1.110864</td>\n",
       "      <td>0.007072</td>\n",
       "      <td>1.280082</td>\n",
       "    </tr>\n",
       "    <tr>\n",
       "      <th>2023-12-29</th>\n",
       "      <td>1.106819</td>\n",
       "      <td>0.007071</td>\n",
       "      <td>1.273399</td>\n",
       "    </tr>\n",
       "  </tbody>\n",
       "</table>\n",
       "<p>6248 rows × 3 columns</p>\n",
       "</div>"
      ],
      "text/plain": [
       "              eurusd    jpyusd    gbpusd\n",
       "Date                                    \n",
       "2000-01-03       NaN  0.009834       NaN\n",
       "2000-01-04       NaN  0.009696       NaN\n",
       "2000-01-05       NaN  0.009607       NaN\n",
       "2000-01-06       NaN  0.009503       NaN\n",
       "2000-01-07       NaN  0.009494       NaN\n",
       "...              ...       ...       ...\n",
       "2023-12-25  1.102657  0.007025  1.267700\n",
       "2023-12-26  1.102026  0.007031  1.270487\n",
       "2023-12-27  1.104301  0.007019  1.272718\n",
       "2023-12-28  1.110864  0.007072  1.280082\n",
       "2023-12-29  1.106819  0.007071  1.273399\n",
       "\n",
       "[6248 rows x 3 columns]"
      ]
     },
     "execution_count": 72,
     "metadata": {},
     "output_type": "execute_result"
    }
   ],
   "source": [
    "df_currencies"
   ]
  },
  {
   "cell_type": "markdown",
   "metadata": {},
   "source": [
    "# Concat"
   ]
  },
  {
   "cell_type": "code",
   "execution_count": 73,
   "metadata": {},
   "outputs": [],
   "source": [
    "df_stocks = pd.concat([df_currencies, df_indexes], axis=1).resample('D').ffill()"
   ]
  },
  {
   "cell_type": "code",
   "execution_count": 74,
   "metadata": {},
   "outputs": [],
   "source": [
    "# Keep only the observations after 2004\n",
    "df_stocks = df_stocks[(df_stocks.index >= '2004-01-01') & (df_stocks.index < '2023-01-01')]"
   ]
  },
  {
   "cell_type": "code",
   "execution_count": 36,
   "metadata": {},
   "outputs": [
    {
     "data": {
      "text/plain": [
       "nikkei    0\n",
       "dtype: int64"
      ]
     },
     "execution_count": 36,
     "metadata": {},
     "output_type": "execute_result"
    }
   ],
   "source": [
    "nikkei.isna().sum()"
   ]
  },
  {
   "cell_type": "code",
   "execution_count": 76,
   "metadata": {},
   "outputs": [
    {
     "data": {
      "text/plain": [
       "eurusd     35\n",
       "jpyusd     37\n",
       "gbpusd     21\n",
       "nq        230\n",
       "sp500     242\n",
       "nikkei    391\n",
       "ftse      218\n",
       "dtype: int64"
      ]
     },
     "execution_count": 76,
     "metadata": {},
     "output_type": "execute_result"
    }
   ],
   "source": [
    "df_stocks.isnull().sum()"
   ]
  },
  {
   "cell_type": "markdown",
   "metadata": {},
   "source": [
    "# Gen csv"
   ]
  },
  {
   "cell_type": "code",
   "execution_count": 44,
   "metadata": {},
   "outputs": [],
   "source": [
    "#df_stocks.to_csv('../../data/preparation/currencies_stocks.csv')\n"
   ]
  }
 ],
 "metadata": {
  "kernelspec": {
   "display_name": "DL",
   "language": "python",
   "name": "python3"
  },
  "language_info": {
   "codemirror_mode": {
    "name": "ipython",
    "version": 3
   },
   "file_extension": ".py",
   "mimetype": "text/x-python",
   "name": "python",
   "nbconvert_exporter": "python",
   "pygments_lexer": "ipython3",
   "version": "3.10.14"
  }
 },
 "nbformat": 4,
 "nbformat_minor": 2
}
