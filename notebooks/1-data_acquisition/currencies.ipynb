{
 "cells": [
  {
   "cell_type": "code",
   "execution_count": 1,
   "metadata": {},
   "outputs": [],
   "source": [
    "import pandas as pd\n",
    "import yfinance as yf"
   ]
  },
  {
   "cell_type": "code",
   "execution_count": 2,
   "metadata": {},
   "outputs": [
    {
     "name": "stderr",
     "output_type": "stream",
     "text": [
      "[*********************100%%**********************]  1 of 1 completed\n",
      "[*********************100%%**********************]  1 of 1 completed\n",
      "[*********************100%%**********************]  1 of 1 completed\n"
     ]
    }
   ],
   "source": [
    "# Obtener los datos de cotización para los símbolos especificados\n",
    "eurusd = yf.download('EURUSD=X', start=\"2000-01-01\", end=\"2024-01-01\", period=\"1d\")\n",
    "jpyusd = yf.download('JPYUSD=X', start=\"2000-01-01\", end=\"2024-01-01\", period=\"1d\")\n",
    "gbpusd = yf.download('GBPUSD=X', start=\"2000-01-01\", end=\"2024-01-01\", period=\"1d\")"
   ]
  },
  {
   "cell_type": "code",
   "execution_count": 3,
   "metadata": {},
   "outputs": [],
   "source": [
    "currencies = [eurusd, jpyusd, gbpusd]"
   ]
  },
  {
   "cell_type": "code",
   "execution_count": 4,
   "metadata": {},
   "outputs": [],
   "source": [
    "# Drop columns except 'Close' and rename 'Close' column\n",
    "eurusd = eurusd[['Close']].rename(columns={'Close': 'eurusd'})\n",
    "jpyusd = jpyusd[['Close']].rename(columns={'Close': 'jpyusd'})\n",
    "gbpusd = gbpusd[['Close']].rename(columns={'Close': 'gbpusd'})"
   ]
  },
  {
   "cell_type": "code",
   "execution_count": 5,
   "metadata": {},
   "outputs": [],
   "source": [
    "df = pd.concat([eurusd, jpyusd, gbpusd], axis=1)\n",
    "# Keep only the observations after 2004\n",
    "df = df[df.index >= '2004-01-01']"
   ]
  },
  {
   "cell_type": "code",
   "execution_count": 6,
   "metadata": {},
   "outputs": [
    {
     "data": {
      "text/html": [
       "<div>\n",
       "<style scoped>\n",
       "    .dataframe tbody tr th:only-of-type {\n",
       "        vertical-align: middle;\n",
       "    }\n",
       "\n",
       "    .dataframe tbody tr th {\n",
       "        vertical-align: top;\n",
       "    }\n",
       "\n",
       "    .dataframe thead th {\n",
       "        text-align: right;\n",
       "    }\n",
       "</style>\n",
       "<table border=\"1\" class=\"dataframe\">\n",
       "  <thead>\n",
       "    <tr style=\"text-align: right;\">\n",
       "      <th></th>\n",
       "      <th>eurusd</th>\n",
       "      <th>jpyusd</th>\n",
       "      <th>gbpusd</th>\n",
       "    </tr>\n",
       "    <tr>\n",
       "      <th>Date</th>\n",
       "      <th></th>\n",
       "      <th></th>\n",
       "      <th></th>\n",
       "    </tr>\n",
       "  </thead>\n",
       "  <tbody>\n",
       "    <tr>\n",
       "      <th>2004-01-01</th>\n",
       "      <td>1.258194</td>\n",
       "      <td>0.009320</td>\n",
       "      <td>1.785204</td>\n",
       "    </tr>\n",
       "    <tr>\n",
       "      <th>2004-01-02</th>\n",
       "      <td>1.258194</td>\n",
       "      <td>0.009354</td>\n",
       "      <td>1.793690</td>\n",
       "    </tr>\n",
       "    <tr>\n",
       "      <th>2004-01-05</th>\n",
       "      <td>1.268698</td>\n",
       "      <td>0.009413</td>\n",
       "      <td>1.807207</td>\n",
       "    </tr>\n",
       "    <tr>\n",
       "      <th>2004-01-06</th>\n",
       "      <td>1.272103</td>\n",
       "      <td>0.009414</td>\n",
       "      <td>1.821295</td>\n",
       "    </tr>\n",
       "    <tr>\n",
       "      <th>2004-01-07</th>\n",
       "      <td>1.264095</td>\n",
       "      <td>0.009418</td>\n",
       "      <td>1.817785</td>\n",
       "    </tr>\n",
       "    <tr>\n",
       "      <th>...</th>\n",
       "      <td>...</td>\n",
       "      <td>...</td>\n",
       "      <td>...</td>\n",
       "    </tr>\n",
       "    <tr>\n",
       "      <th>2023-12-25</th>\n",
       "      <td>1.102657</td>\n",
       "      <td>0.007025</td>\n",
       "      <td>1.267700</td>\n",
       "    </tr>\n",
       "    <tr>\n",
       "      <th>2023-12-26</th>\n",
       "      <td>1.102026</td>\n",
       "      <td>0.007031</td>\n",
       "      <td>1.270487</td>\n",
       "    </tr>\n",
       "    <tr>\n",
       "      <th>2023-12-27</th>\n",
       "      <td>1.104301</td>\n",
       "      <td>0.007019</td>\n",
       "      <td>1.272718</td>\n",
       "    </tr>\n",
       "    <tr>\n",
       "      <th>2023-12-28</th>\n",
       "      <td>1.110864</td>\n",
       "      <td>0.007072</td>\n",
       "      <td>1.280082</td>\n",
       "    </tr>\n",
       "    <tr>\n",
       "      <th>2023-12-29</th>\n",
       "      <td>1.106819</td>\n",
       "      <td>0.007071</td>\n",
       "      <td>1.273399</td>\n",
       "    </tr>\n",
       "  </tbody>\n",
       "</table>\n",
       "<p>5205 rows × 3 columns</p>\n",
       "</div>"
      ],
      "text/plain": [
       "              eurusd    jpyusd    gbpusd\n",
       "Date                                    \n",
       "2004-01-01  1.258194  0.009320  1.785204\n",
       "2004-01-02  1.258194  0.009354  1.793690\n",
       "2004-01-05  1.268698  0.009413  1.807207\n",
       "2004-01-06  1.272103  0.009414  1.821295\n",
       "2004-01-07  1.264095  0.009418  1.817785\n",
       "...              ...       ...       ...\n",
       "2023-12-25  1.102657  0.007025  1.267700\n",
       "2023-12-26  1.102026  0.007031  1.270487\n",
       "2023-12-27  1.104301  0.007019  1.272718\n",
       "2023-12-28  1.110864  0.007072  1.280082\n",
       "2023-12-29  1.106819  0.007071  1.273399\n",
       "\n",
       "[5205 rows x 3 columns]"
      ]
     },
     "execution_count": 6,
     "metadata": {},
     "output_type": "execute_result"
    }
   ],
   "source": [
    "df"
   ]
  },
  {
   "cell_type": "code",
   "execution_count": 9,
   "metadata": {},
   "outputs": [],
   "source": [
    "#df.to_csv('../../data/preparation/currencies.csv')\n"
   ]
  }
 ],
 "metadata": {
  "kernelspec": {
   "display_name": "DL",
   "language": "python",
   "name": "python3"
  },
  "language_info": {
   "codemirror_mode": {
    "name": "ipython",
    "version": 3
   },
   "file_extension": ".py",
   "mimetype": "text/x-python",
   "name": "python",
   "nbconvert_exporter": "python",
   "pygments_lexer": "ipython3",
   "version": "3.10.13"
  }
 },
 "nbformat": 4,
 "nbformat_minor": 2
}
