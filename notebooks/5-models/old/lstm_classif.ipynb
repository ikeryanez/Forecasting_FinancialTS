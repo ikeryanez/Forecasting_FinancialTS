{
 "cells": [
  {
   "cell_type": "code",
   "execution_count": 39,
   "metadata": {},
   "outputs": [],
   "source": [
    "import numpy as np\n",
    "import pandas as pd\n",
    "from sklearn.preprocessing import MinMaxScaler, LabelEncoder\n",
    "from sklearn.model_selection import train_test_split\n",
    "import tensorflow as tf\n",
    "from tensorflow.keras.models import Sequential\n",
    "from tensorflow.keras.layers import LSTM, Dense, Dropout\n",
    "import optuna\n",
    "\n",
    "from sklearn.metrics import confusion_matrix, ConfusionMatrixDisplay\n",
    "import matplotlib.pyplot as plt\n"
   ]
  },
  {
   "cell_type": "code",
   "execution_count": 29,
   "metadata": {},
   "outputs": [],
   "source": [
    "# Cargar los datos\n",
    "data = pd.read_csv('../../data/df_joint.csv', index_col='Date', parse_dates=True)\n"
   ]
  },
  {
   "cell_type": "code",
   "execution_count": 30,
   "metadata": {},
   "outputs": [],
   "source": [
    "# Reemplazar las comas por puntos\n",
    "data['ir_uk'] = data['ir_uk'].str.replace(',', '.')\n",
    "\n",
    "data['ir_uk'] = data['ir_uk'].astype(float)\n"
   ]
  },
  {
   "cell_type": "markdown",
   "metadata": {},
   "source": [
    "# EURUSD"
   ]
  },
  {
   "cell_type": "code",
   "execution_count": 31,
   "metadata": {},
   "outputs": [],
   "source": [
    "# Seleccionar las características y el objetivo\n",
    "features = data[['jpyusd', 'gbpusd', 'nq', 'sp500', 'nikkei', 'ftse', 'gdp_us',\n",
    "       'gdp_uk', 'gdp_jp', 'gdp_ez', 'unrate_us', 'unrate_uk', 'unrate_jp',\n",
    "       'unrate_ez', 'm0_us', 'm0_jp', 'm0_ez', 'ir_us', 'ir_uk',\n",
    "       'ir_deposit_ez', 'ir_lending_ez', 'ir_MRO_ez', 'ir_jp']]\n",
    "target = data['eurusd']"
   ]
  },
  {
   "cell_type": "markdown",
   "metadata": {},
   "source": [
    "## Data preparation"
   ]
  },
  {
   "cell_type": "code",
   "execution_count": 33,
   "metadata": {},
   "outputs": [],
   "source": [
    "# Crear la columna objetivo: 1 si el precio sube, 0 si baja\n",
    "target_shifted = target.shift(-1)\n",
    "target_direction = (target_shifted > target).astype(int)\n",
    "target_direction = target_direction[:-1]  # Eliminar el último valor que será NaN por el shift\n",
    "\n",
    "features = features[:-1]  # Alinear con el objetivo\n",
    "\n",
    "# Escalar los datos\n",
    "scaler = MinMaxScaler()\n",
    "features_scaled = scaler.fit_transform(features)\n",
    "\n"
   ]
  },
  {
   "cell_type": "code",
   "execution_count": 43,
   "metadata": {},
   "outputs": [
    {
     "data": {
      "text/plain": [
       "(array([2501.,    0.,    0.,    0.,    0.,    0.,    0.,    0.,    0.,\n",
       "        2455.]),\n",
       " array([0. , 0.1, 0.2, 0.3, 0.4, 0.5, 0.6, 0.7, 0.8, 0.9, 1. ]),\n",
       " <BarContainer object of 10 artists>)"
      ]
     },
     "execution_count": 43,
     "metadata": {},
     "output_type": "execute_result"
    },
    {
     "data": {
      "image/png": "[encoded data removed]",
      "text/plain": [
       "<Figure size 640x480 with 1 Axes>"
      ]
     },
     "metadata": {},
     "output_type": "display_data"
    }
   ],
   "source": [
    "plt.hist(target_direction)"
   ]
  },
  {
   "cell_type": "code",
   "execution_count": 34,
   "metadata": {},
   "outputs": [],
   "source": [
    "# Crear las secuencias para LSTM\n",
    "def create_sequences(features, target, time_steps=1):\n",
    "    X, y = [], []\n",
    "    for i in range(len(features) - time_steps):\n",
    "        X.append(features[i:(i + time_steps)])\n",
    "        y.append(target[i + time_steps])\n",
    "    return np.array(X), np.array(y)\n",
    "\n",
    "time_steps = 10\n",
    "X, y = create_sequences(features_scaled, target_direction.values, time_steps)\n",
    "\n",
    "# Dividir los datos en conjuntos de entrenamiento y prueba\n",
    "X_train, X_test, y_train, y_test = train_test_split(X, y, test_size=0.2, shuffle=False)"
   ]
  },
  {
   "cell_type": "markdown",
   "metadata": {},
   "source": [
    "## Optuna"
   ]
  },
  {
   "cell_type": "code",
   "execution_count": 35,
   "metadata": {},
   "outputs": [],
   "source": [
    "# Función de objetivo para Optuna\n",
    "def objective(trial):\n",
    "    model = Sequential()\n",
    "    model.add(LSTM(units=trial.suggest_int('units', 50, 200), return_sequences=True, input_shape=(X_train.shape[1], X_train.shape[2])))\n",
    "    model.add(Dropout(trial.suggest_float('dropout1', 0.2, 0.5)))\n",
    "    model.add(LSTM(units=trial.suggest_int('units', 50, 200)))\n",
    "    model.add(Dropout(trial.suggest_float('dropout2', 0.2, 0.5)))\n",
    "    model.add(Dense(1, activation='sigmoid'))\n",
    "\n",
    "    model.compile(optimizer=tf.keras.optimizers.Adam(learning_rate=trial.suggest_float('lr', 1e-4, 1e-2)), loss='binary_crossentropy', metrics=['accuracy'])\n",
    "\n",
    "    model.fit(X_train, y_train, epochs=trial.suggest_int('epochs', 10, 50), batch_size=trial.suggest_int('batch_size', 16, 64), verbose=0)\n",
    "    loss, accuracy = model.evaluate(X_test, y_test, verbose=0)\n",
    "    return accuracy\n"
   ]
  },
  {
   "cell_type": "code",
   "execution_count": 36,
   "metadata": {},
   "outputs": [
    {
     "name": "stderr",
     "output_type": "stream",
     "text": [
      "[I 2024-06-03 20:17:44,180] A new study created in memory with name: no-name-4ce74c07-79b6-4fb5-88bb-465787595ff9\n",
      "c:\\Users\\usuario\\anaconda3\\envs\\TFM\\lib\\site-packages\\keras\\src\\layers\\rnn\\rnn.py:204: UserWarning: Do not pass an `input_shape`/`input_dim` argument to a layer. When using Sequential models, prefer using an `Input(shape)` object as the first layer in the model instead.\n",
      "  super().__init__(**kwargs)\n",
      "[I 2024-06-03 20:18:03,465] Trial 0 finished with value: 0.5060606002807617 and parameters: {'units': 194, 'dropout1': 0.4213739859852246, 'dropout2': 0.3027806917447931, 'lr': 0.004722915433103142, 'epochs': 14, 'batch_size': 36}. Best is trial 0 with value: 0.5060606002807617.\n",
      "[I 2024-06-03 20:18:15,901] Trial 1 finished with value: 0.5060606002807617 and parameters: {'units': 59, 'dropout1': 0.35041127159603946, 'dropout2': 0.2653271940059672, 'lr': 0.005398649375074455, 'epochs': 26, 'batch_size': 44}. Best is trial 0 with value: 0.5060606002807617.\n",
      "[I 2024-06-03 20:18:32,422] Trial 2 finished with value: 0.5060606002807617 and parameters: {'units': 52, 'dropout1': 0.26848459355148563, 'dropout2': 0.2795676857648266, 'lr': 0.002869156721146252, 'epochs': 19, 'batch_size': 16}. Best is trial 0 with value: 0.5060606002807617.\n",
      "[I 2024-06-03 20:18:58,232] Trial 3 finished with value: 0.5060606002807617 and parameters: {'units': 132, 'dropout1': 0.3870970600059952, 'dropout2': 0.24425111401290903, 'lr': 0.0014467791349188997, 'epochs': 35, 'batch_size': 60}. Best is trial 0 with value: 0.5060606002807617.\n",
      "[I 2024-06-03 20:19:26,723] Trial 4 finished with value: 0.5060606002807617 and parameters: {'units': 199, 'dropout1': 0.30912083165086335, 'dropout2': 0.22734968964448443, 'lr': 0.00807930803535422, 'epochs': 19, 'batch_size': 30}. Best is trial 0 with value: 0.5060606002807617.\n",
      "[I 2024-06-03 20:19:52,470] Trial 5 finished with value: 0.5060606002807617 and parameters: {'units': 170, 'dropout1': 0.24195013386724898, 'dropout2': 0.45111398820798004, 'lr': 0.0018547389819156125, 'epochs': 24, 'batch_size': 47}. Best is trial 0 with value: 0.5060606002807617.\n",
      "[I 2024-06-03 20:20:09,916] Trial 6 finished with value: 0.5060606002807617 and parameters: {'units': 141, 'dropout1': 0.3691323161980181, 'dropout2': 0.47439852882590183, 'lr': 0.009430344733577286, 'epochs': 16, 'batch_size': 36}. Best is trial 0 with value: 0.5060606002807617.\n",
      "[I 2024-06-03 20:20:35,011] Trial 7 finished with value: 0.5060606002807617 and parameters: {'units': 95, 'dropout1': 0.4119809989569467, 'dropout2': 0.4589163437442913, 'lr': 0.008963610899965599, 'epochs': 40, 'batch_size': 41}. Best is trial 0 with value: 0.5060606002807617.\n",
      "[I 2024-06-03 20:20:51,302] Trial 8 finished with value: 0.5060606002807617 and parameters: {'units': 54, 'dropout1': 0.4689741460851781, 'dropout2': 0.34535317336192406, 'lr': 0.004065074472148974, 'epochs': 45, 'batch_size': 63}. Best is trial 0 with value: 0.5060606002807617.\n",
      "[I 2024-06-03 20:21:05,001] Trial 9 finished with value: 0.5060606002807617 and parameters: {'units': 74, 'dropout1': 0.45264617105605587, 'dropout2': 0.29285318667662863, 'lr': 0.0017976366434476676, 'epochs': 24, 'batch_size': 40}. Best is trial 0 with value: 0.5060606002807617.\n",
      "[I 2024-06-03 20:21:54,112] Trial 10 finished with value: 0.4939393997192383 and parameters: {'units': 195, 'dropout1': 0.4992542004511449, 'dropout2': 0.36852836900660774, 'lr': 0.006094506696805864, 'epochs': 33, 'batch_size': 26}. Best is trial 0 with value: 0.5060606002807617.\n",
      "[I 2024-06-03 20:22:01,791] Trial 11 finished with value: 0.5060606002807617 and parameters: {'units': 106, 'dropout1': 0.33361491490129813, 'dropout2': 0.20275322244464355, 'lr': 0.005383348917759848, 'epochs': 10, 'batch_size': 51}. Best is trial 0 with value: 0.5060606002807617.\n",
      "[I 2024-06-03 20:22:12,912] Trial 12 finished with value: 0.4939393997192383 and parameters: {'units': 162, 'dropout1': 0.4068536997061861, 'dropout2': 0.29897126453969675, 'lr': 0.006577890755368537, 'epochs': 11, 'batch_size': 51}. Best is trial 0 with value: 0.5060606002807617.\n",
      "[I 2024-06-03 20:22:34,165] Trial 13 finished with value: 0.5060606002807617 and parameters: {'units': 109, 'dropout1': 0.2001923788598449, 'dropout2': 0.33521566293904004, 'lr': 0.004064778951893075, 'epochs': 26, 'batch_size': 30}. Best is trial 0 with value: 0.5060606002807617.\n",
      "[I 2024-06-03 20:22:59,257] Trial 14 finished with value: 0.5060606002807617 and parameters: {'units': 156, 'dropout1': 0.34472077377047644, 'dropout2': 0.26434518867651075, 'lr': 0.00028440084448934106, 'epochs': 30, 'batch_size': 46}. Best is trial 0 with value: 0.5060606002807617.\n",
      "[I 2024-06-03 20:23:42,455] Trial 15 finished with value: 0.5060606002807617 and parameters: {'units': 84, 'dropout1': 0.43528274124408195, 'dropout2': 0.31674467749551777, 'lr': 0.007435236193459725, 'epochs': 49, 'batch_size': 19}. Best is trial 0 with value: 0.5060606002807617.\n",
      "[I 2024-06-03 20:23:51,771] Trial 16 finished with value: 0.5060606002807617 and parameters: {'units': 69, 'dropout1': 0.3736937297467169, 'dropout2': 0.37781261022733975, 'lr': 0.004083004560858618, 'epochs': 15, 'batch_size': 36}. Best is trial 0 with value: 0.5060606002807617.\n",
      "[I 2024-06-03 20:24:17,372] Trial 17 finished with value: 0.4939393997192383 and parameters: {'units': 119, 'dropout1': 0.4127198836374265, 'dropout2': 0.25916148477759865, 'lr': 0.005319957122019967, 'epochs': 28, 'batch_size': 23}. Best is trial 0 with value: 0.5060606002807617.\n",
      "[I 2024-06-03 20:24:54,948] Trial 18 finished with value: 0.5060606002807617 and parameters: {'units': 183, 'dropout1': 0.31808600540920406, 'dropout2': 0.21863988266234982, 'lr': 0.006890890325766965, 'epochs': 38, 'batch_size': 56}. Best is trial 0 with value: 0.5060606002807617.\n",
      "[I 2024-06-03 20:25:17,585] Trial 19 finished with value: 0.5060606002807617 and parameters: {'units': 144, 'dropout1': 0.35162253598639925, 'dropout2': 0.25337000319648273, 'lr': 0.005799521872662038, 'epochs': 22, 'batch_size': 35}. Best is trial 0 with value: 0.5060606002807617.\n",
      "[I 2024-06-03 20:25:34,741] Trial 20 finished with value: 0.5060606002807617 and parameters: {'units': 175, 'dropout1': 0.3897402777601856, 'dropout2': 0.30779158812606805, 'lr': 0.0045933406554657455, 'epochs': 14, 'batch_size': 44}. Best is trial 0 with value: 0.5060606002807617.\n",
      "[I 2024-06-03 20:25:50,949] Trial 21 finished with value: 0.4939393997192383 and parameters: {'units': 50, 'dropout1': 0.2884778010704377, 'dropout2': 0.27633555748333616, 'lr': 0.0033217569725408013, 'epochs': 18, 'batch_size': 16}. Best is trial 0 with value: 0.5060606002807617.\n",
      "[I 2024-06-03 20:26:03,861] Trial 22 finished with value: 0.5060606002807617 and parameters: {'units': 65, 'dropout1': 0.28172928168856454, 'dropout2': 0.27960778900010747, 'lr': 0.0032786548417521656, 'epochs': 20, 'batch_size': 31}. Best is trial 0 with value: 0.5060606002807617.\n",
      "[I 2024-06-03 20:26:15,981] Trial 23 finished with value: 0.5060606002807617 and parameters: {'units': 90, 'dropout1': 0.3653218054848457, 'dropout2': 0.23625733896650347, 'lr': 0.004971653829452802, 'epochs': 13, 'batch_size': 24}. Best is trial 0 with value: 0.5060606002807617.\n",
      "[I 2024-06-03 20:26:25,736] Trial 24 finished with value: 0.5060606002807617 and parameters: {'units': 61, 'dropout1': 0.330140225594, 'dropout2': 0.28421310487394463, 'lr': 0.003101265969516557, 'epochs': 21, 'batch_size': 52}. Best is trial 0 with value: 0.5060606002807617.\n",
      "[I 2024-06-03 20:26:41,900] Trial 25 finished with value: 0.5060606002807617 and parameters: {'units': 79, 'dropout1': 0.29677478362349635, 'dropout2': 0.3187587072889284, 'lr': 0.006082385802130691, 'epochs': 17, 'batch_size': 19}. Best is trial 0 with value: 0.5060606002807617.\n",
      "[I 2024-06-03 20:27:01,762] Trial 26 finished with value: 0.5060606002807617 and parameters: {'units': 99, 'dropout1': 0.2650080781332931, 'dropout2': 0.2597784584625002, 'lr': 0.004686979445867757, 'epochs': 26, 'batch_size': 34}. Best is trial 0 with value: 0.5060606002807617.\n",
      "[I 2024-06-03 20:27:28,457] Trial 27 finished with value: 0.5060606002807617 and parameters: {'units': 122, 'dropout1': 0.3469799325464102, 'dropout2': 0.2808616709027113, 'lr': 0.002812856682428791, 'epochs': 32, 'batch_size': 44}. Best is trial 0 with value: 0.5060606002807617.\n",
      "[I 2024-06-03 20:27:38,786] Trial 28 finished with value: 0.5060606002807617 and parameters: {'units': 58, 'dropout1': 0.31545120789157666, 'dropout2': 0.20256020367851543, 'lr': 0.005559852990840844, 'epochs': 23, 'batch_size': 55}. Best is trial 0 with value: 0.5060606002807617.\n",
      "[I 2024-06-03 20:27:52,851] Trial 29 finished with value: 0.5060606002807617 and parameters: {'units': 131, 'dropout1': 0.38886612176921087, 'dropout2': 0.24410450212252174, 'lr': 0.002468620047228671, 'epochs': 12, 'batch_size': 27}. Best is trial 0 with value: 0.5060606002807617.\n",
      "[I 2024-06-03 20:28:14,152] Trial 30 finished with value: 0.5060606002807617 and parameters: {'units': 82, 'dropout1': 0.25742163962934594, 'dropout2': 0.2376885861780251, 'lr': 0.0036105019520605384, 'epochs': 36, 'batch_size': 38}. Best is trial 0 with value: 0.5060606002807617.\n",
      "[I 2024-06-03 20:28:48,613] Trial 31 finished with value: 0.5060606002807617 and parameters: {'units': 191, 'dropout1': 0.3089456099412683, 'dropout2': 0.2237060944447066, 'lr': 0.0010716338207907594, 'epochs': 34, 'batch_size': 63}. Best is trial 0 with value: 0.5060606002807617.\n",
      "[I 2024-06-03 20:29:11,426] Trial 32 finished with value: 0.5070707201957703 and parameters: {'units': 151, 'dropout1': 0.3866733567320825, 'dropout2': 0.26848589381058996, 'lr': 0.0022774376768785734, 'epochs': 29, 'batch_size': 61}. Best is trial 32 with value: 0.5070707201957703.\n",
      "[I 2024-06-03 20:29:34,534] Trial 33 finished with value: 0.5060606002807617 and parameters: {'units': 150, 'dropout1': 0.35781235234898673, 'dropout2': 0.29978311562477655, 'lr': 0.002600183693337011, 'epochs': 30, 'batch_size': 60}. Best is trial 32 with value: 0.5070707201957703.\n",
      "[I 2024-06-03 20:30:00,337] Trial 34 finished with value: 0.49696969985961914 and parameters: {'units': 174, 'dropout1': 0.37882646418200533, 'dropout2': 0.2732459693669772, 'lr': 0.002149672605150981, 'epochs': 27, 'batch_size': 56}. Best is trial 32 with value: 0.5070707201957703.\n",
      "[I 2024-06-03 20:30:19,322] Trial 35 finished with value: 0.5060606002807617 and parameters: {'units': 164, 'dropout1': 0.3964686247644065, 'dropout2': 0.2490549894988756, 'lr': 0.001427118111345368, 'epochs': 19, 'batch_size': 42}. Best is trial 32 with value: 0.5070707201957703.\n",
      "[I 2024-06-03 20:30:38,807] Trial 36 finished with value: 0.4939393997192383 and parameters: {'units': 185, 'dropout1': 0.4257007872588503, 'dropout2': 0.3181068264915863, 'lr': 0.004438423971206891, 'epochs': 16, 'batch_size': 49}. Best is trial 32 with value: 0.5070707201957703.\n",
      "[I 2024-06-03 20:31:17,521] Trial 37 finished with value: 0.4939393997192383 and parameters: {'units': 140, 'dropout1': 0.37246487539465695, 'dropout2': 0.2917673927528843, 'lr': 0.002141614746770534, 'epochs': 30, 'batch_size': 20}. Best is trial 32 with value: 0.5070707201957703.\n",
      "[I 2024-06-03 20:31:32,948] Trial 38 finished with value: 0.5060606002807617 and parameters: {'units': 72, 'dropout1': 0.3980110368467642, 'dropout2': 0.2703769708481372, 'lr': 0.0036122390829713474, 'epochs': 25, 'batch_size': 31}. Best is trial 32 with value: 0.5070707201957703.\n",
      "[I 2024-06-03 20:31:56,672] Trial 39 finished with value: 0.5060606002807617 and parameters: {'units': 199, 'dropout1': 0.33091442000489824, 'dropout2': 0.25033784075640514, 'lr': 0.005148490728190304, 'epochs': 22, 'batch_size': 60}. Best is trial 32 with value: 0.5070707201957703.\n",
      "[I 2024-06-03 20:32:10,979] Trial 40 finished with value: 0.5060606002807617 and parameters: {'units': 111, 'dropout1': 0.42329628261835645, 'dropout2': 0.33916001982809196, 'lr': 0.002830053951937202, 'epochs': 19, 'batch_size': 39}. Best is trial 32 with value: 0.5070707201957703.\n",
      "[I 2024-06-03 20:32:41,206] Trial 41 finished with value: 0.5060606002807617 and parameters: {'units': 135, 'dropout1': 0.3786790187441328, 'dropout2': 0.2207475354874714, 'lr': 0.0014711762915474245, 'epochs': 42, 'batch_size': 61}. Best is trial 32 with value: 0.5070707201957703.\n",
      "[I 2024-06-03 20:33:06,639] Trial 42 finished with value: 0.508080780506134 and parameters: {'units': 127, 'dropout1': 0.3585521140728015, 'dropout2': 0.2673911579942139, 'lr': 0.0008925887499733362, 'epochs': 37, 'batch_size': 58}. Best is trial 42 with value: 0.508080780506134.\n",
      "[I 2024-06-03 20:33:33,253] Trial 43 finished with value: 0.508080780506134 and parameters: {'units': 152, 'dropout1': 0.3450984623726677, 'dropout2': 0.29065329635455556, 'lr': 0.0007147646058078454, 'epochs': 37, 'batch_size': 64}. Best is trial 42 with value: 0.508080780506134.\n",
      "[I 2024-06-03 20:34:04,441] Trial 44 finished with value: 0.5030303001403809 and parameters: {'units': 153, 'dropout1': 0.35944138394247077, 'dropout2': 0.28809865554716996, 'lr': 0.0006288655042182287, 'epochs': 42, 'batch_size': 64}. Best is trial 42 with value: 0.508080780506134.\n",
      "[I 2024-06-03 20:34:29,841] Trial 45 finished with value: 0.4979797899723053 and parameters: {'units': 127, 'dropout1': 0.34626997691308176, 'dropout2': 0.2656158791000067, 'lr': 0.0008123275484238923, 'epochs': 36, 'batch_size': 58}. Best is trial 42 with value: 0.508080780506134.\n",
      "[I 2024-06-03 20:35:06,548] Trial 46 finished with value: 0.5060606002807617 and parameters: {'units': 161, 'dropout1': 0.3639140330273982, 'dropout2': 0.30269920917444115, 'lr': 0.001147766566438762, 'epochs': 39, 'batch_size': 53}. Best is trial 42 with value: 0.508080780506134.\n",
      "[I 2024-06-03 20:35:36,627] Trial 47 finished with value: 0.4808080792427063 and parameters: {'units': 116, 'dropout1': 0.4030088167125567, 'dropout2': 0.2598571803232854, 'lr': 0.00014007469788276906, 'epochs': 46, 'batch_size': 58}. Best is trial 42 with value: 0.508080780506134.\n",
      "[I 2024-06-03 20:36:01,355] Trial 48 finished with value: 0.5020201802253723 and parameters: {'units': 148, 'dropout1': 0.3790742346044963, 'dropout2': 0.29185144064469865, 'lr': 0.0005831352178244835, 'epochs': 32, 'batch_size': 62}. Best is trial 42 with value: 0.508080780506134.\n",
      "[I 2024-06-03 20:36:42,514] Trial 49 finished with value: 0.5060606002807617 and parameters: {'units': 170, 'dropout1': 0.4549486020165258, 'dropout2': 0.3267785433185677, 'lr': 0.0018406415123858844, 'epochs': 41, 'batch_size': 48}. Best is trial 42 with value: 0.508080780506134.\n"
     ]
    },
    {
     "name": "stdout",
     "output_type": "stream",
     "text": [
      "FrozenTrial(number=42, state=TrialState.COMPLETE, values=[0.508080780506134], datetime_start=datetime.datetime(2024, 6, 3, 20, 32, 41, 207222), datetime_complete=datetime.datetime(2024, 6, 3, 20, 33, 6, 639752), params={'units': 127, 'dropout1': 0.3585521140728015, 'dropout2': 0.2673911579942139, 'lr': 0.0008925887499733362, 'epochs': 37, 'batch_size': 58}, user_attrs={}, system_attrs={}, intermediate_values={}, distributions={'units': IntDistribution(high=200, log=False, low=50, step=1), 'dropout1': FloatDistribution(high=0.5, log=False, low=0.2, step=None), 'dropout2': FloatDistribution(high=0.5, log=False, low=0.2, step=None), 'lr': FloatDistribution(high=0.01, log=False, low=0.0001, step=None), 'epochs': IntDistribution(high=50, log=False, low=10, step=1), 'batch_size': IntDistribution(high=64, log=False, low=16, step=1)}, trial_id=42, value=None)\n"
     ]
    }
   ],
   "source": [
    "# Crear el estudio Optuna y optimizar\n",
    "study = optuna.create_study(direction='maximize')\n",
    "study.optimize(objective, n_trials=50)\n",
    "\n",
    "# Imprimir los mejores hiperparámetros\n",
    "print(study.best_trial)"
   ]
  },
  {
   "cell_type": "markdown",
   "metadata": {},
   "source": [
    "## Train best model with best hyperparam"
   ]
  },
  {
   "cell_type": "code",
   "execution_count": 37,
   "metadata": {},
   "outputs": [
    {
     "name": "stdout",
     "output_type": "stream",
     "text": [
      "Epoch 1/37\n",
      "\u001b[1m69/69\u001b[0m \u001b[32m━━━━━━━━━━━━━━━━━━━━\u001b[0m\u001b[37m\u001b[0m \u001b[1m3s\u001b[0m 10ms/step - accuracy: 0.4959 - loss: 0.6977\n",
      "Epoch 2/37\n",
      "\u001b[1m69/69\u001b[0m \u001b[32m━━━━━━━━━━━━━━━━━━━━\u001b[0m\u001b[37m\u001b[0m \u001b[1m1s\u001b[0m 10ms/step - accuracy: 0.4895 - loss: 0.6949\n",
      "Epoch 3/37\n",
      "\u001b[1m69/69\u001b[0m \u001b[32m━━━━━━━━━━━━━━━━━━━━\u001b[0m\u001b[37m\u001b[0m \u001b[1m1s\u001b[0m 10ms/step - accuracy: 0.5037 - loss: 0.6936\n",
      "Epoch 4/37\n",
      "\u001b[1m69/69\u001b[0m \u001b[32m━━━━━━━━━━━━━━━━━━━━\u001b[0m\u001b[37m\u001b[0m \u001b[1m1s\u001b[0m 10ms/step - accuracy: 0.4992 - loss: 0.6940\n",
      "Epoch 5/37\n",
      "\u001b[1m69/69\u001b[0m \u001b[32m━━━━━━━━━━━━━━━━━━━━\u001b[0m\u001b[37m\u001b[0m \u001b[1m1s\u001b[0m 10ms/step - accuracy: 0.5293 - loss: 0.6926\n",
      "Epoch 6/37\n",
      "\u001b[1m69/69\u001b[0m \u001b[32m━━━━━━━━━━━━━━━━━━━━\u001b[0m\u001b[37m\u001b[0m \u001b[1m1s\u001b[0m 10ms/step - accuracy: 0.5127 - loss: 0.6925\n",
      "Epoch 7/37\n",
      "\u001b[1m69/69\u001b[0m \u001b[32m━━━━━━━━━━━━━━━━━━━━\u001b[0m\u001b[37m\u001b[0m \u001b[1m1s\u001b[0m 10ms/step - accuracy: 0.5012 - loss: 0.6934\n",
      "Epoch 8/37\n",
      "\u001b[1m69/69\u001b[0m \u001b[32m━━━━━━━━━━━━━━━━━━━━\u001b[0m\u001b[37m\u001b[0m \u001b[1m1s\u001b[0m 10ms/step - accuracy: 0.4882 - loss: 0.6939\n",
      "Epoch 9/37\n",
      "\u001b[1m69/69\u001b[0m \u001b[32m━━━━━━━━━━━━━━━━━━━━\u001b[0m\u001b[37m\u001b[0m \u001b[1m1s\u001b[0m 10ms/step - accuracy: 0.5106 - loss: 0.6940\n",
      "Epoch 10/37\n",
      "\u001b[1m69/69\u001b[0m \u001b[32m━━━━━━━━━━━━━━━━━━━━\u001b[0m\u001b[37m\u001b[0m \u001b[1m1s\u001b[0m 10ms/step - accuracy: 0.4963 - loss: 0.6935\n",
      "Epoch 11/37\n",
      "\u001b[1m69/69\u001b[0m \u001b[32m━━━━━━━━━━━━━━━━━━━━\u001b[0m\u001b[37m\u001b[0m \u001b[1m1s\u001b[0m 10ms/step - accuracy: 0.5138 - loss: 0.6928\n",
      "Epoch 12/37\n",
      "\u001b[1m69/69\u001b[0m \u001b[32m━━━━━━━━━━━━━━━━━━━━\u001b[0m\u001b[37m\u001b[0m \u001b[1m1s\u001b[0m 10ms/step - accuracy: 0.5097 - loss: 0.6932\n",
      "Epoch 13/37\n",
      "\u001b[1m69/69\u001b[0m \u001b[32m━━━━━━━━━━━━━━━━━━━━\u001b[0m\u001b[37m\u001b[0m \u001b[1m1s\u001b[0m 10ms/step - accuracy: 0.4978 - loss: 0.6933\n",
      "Epoch 14/37\n",
      "\u001b[1m69/69\u001b[0m \u001b[32m━━━━━━━━━━━━━━━━━━━━\u001b[0m\u001b[37m\u001b[0m \u001b[1m1s\u001b[0m 10ms/step - accuracy: 0.5072 - loss: 0.6931\n",
      "Epoch 15/37\n",
      "\u001b[1m69/69\u001b[0m \u001b[32m━━━━━━━━━━━━━━━━━━━━\u001b[0m\u001b[37m\u001b[0m \u001b[1m1s\u001b[0m 10ms/step - accuracy: 0.5178 - loss: 0.6922\n",
      "Epoch 16/37\n",
      "\u001b[1m69/69\u001b[0m \u001b[32m━━━━━━━━━━━━━━━━━━━━\u001b[0m\u001b[37m\u001b[0m \u001b[1m1s\u001b[0m 10ms/step - accuracy: 0.4961 - loss: 0.6931\n",
      "Epoch 17/37\n",
      "\u001b[1m69/69\u001b[0m \u001b[32m━━━━━━━━━━━━━━━━━━━━\u001b[0m\u001b[37m\u001b[0m \u001b[1m1s\u001b[0m 10ms/step - accuracy: 0.4929 - loss: 0.6946\n",
      "Epoch 18/37\n",
      "\u001b[1m69/69\u001b[0m \u001b[32m━━━━━━━━━━━━━━━━━━━━\u001b[0m\u001b[37m\u001b[0m \u001b[1m1s\u001b[0m 10ms/step - accuracy: 0.5031 - loss: 0.6932\n",
      "Epoch 19/37\n",
      "\u001b[1m69/69\u001b[0m \u001b[32m━━━━━━━━━━━━━━━━━━━━\u001b[0m\u001b[37m\u001b[0m \u001b[1m1s\u001b[0m 10ms/step - accuracy: 0.5114 - loss: 0.6937\n",
      "Epoch 20/37\n",
      "\u001b[1m69/69\u001b[0m \u001b[32m━━━━━━━━━━━━━━━━━━━━\u001b[0m\u001b[37m\u001b[0m \u001b[1m1s\u001b[0m 10ms/step - accuracy: 0.5103 - loss: 0.6926\n",
      "Epoch 21/37\n",
      "\u001b[1m69/69\u001b[0m \u001b[32m━━━━━━━━━━━━━━━━━━━━\u001b[0m\u001b[37m\u001b[0m \u001b[1m1s\u001b[0m 10ms/step - accuracy: 0.5038 - loss: 0.6934\n",
      "Epoch 22/37\n",
      "\u001b[1m69/69\u001b[0m \u001b[32m━━━━━━━━━━━━━━━━━━━━\u001b[0m\u001b[37m\u001b[0m \u001b[1m1s\u001b[0m 10ms/step - accuracy: 0.4978 - loss: 0.6927\n",
      "Epoch 23/37\n",
      "\u001b[1m69/69\u001b[0m \u001b[32m━━━━━━━━━━━━━━━━━━━━\u001b[0m\u001b[37m\u001b[0m \u001b[1m1s\u001b[0m 10ms/step - accuracy: 0.5169 - loss: 0.6927\n",
      "Epoch 24/37\n",
      "\u001b[1m69/69\u001b[0m \u001b[32m━━━━━━━━━━━━━━━━━━━━\u001b[0m\u001b[37m\u001b[0m \u001b[1m1s\u001b[0m 10ms/step - accuracy: 0.5154 - loss: 0.6920\n",
      "Epoch 25/37\n",
      "\u001b[1m69/69\u001b[0m \u001b[32m━━━━━━━━━━━━━━━━━━━━\u001b[0m\u001b[37m\u001b[0m \u001b[1m1s\u001b[0m 10ms/step - accuracy: 0.5091 - loss: 0.6919\n",
      "Epoch 26/37\n",
      "\u001b[1m69/69\u001b[0m \u001b[32m━━━━━━━━━━━━━━━━━━━━\u001b[0m\u001b[37m\u001b[0m \u001b[1m1s\u001b[0m 10ms/step - accuracy: 0.5049 - loss: 0.6934\n",
      "Epoch 27/37\n",
      "\u001b[1m69/69\u001b[0m \u001b[32m━━━━━━━━━━━━━━━━━━━━\u001b[0m\u001b[37m\u001b[0m \u001b[1m1s\u001b[0m 10ms/step - accuracy: 0.5175 - loss: 0.6930\n",
      "Epoch 28/37\n",
      "\u001b[1m69/69\u001b[0m \u001b[32m━━━━━━━━━━━━━━━━━━━━\u001b[0m\u001b[37m\u001b[0m \u001b[1m1s\u001b[0m 10ms/step - accuracy: 0.5212 - loss: 0.6921\n",
      "Epoch 29/37\n",
      "\u001b[1m69/69\u001b[0m \u001b[32m━━━━━━━━━━━━━━━━━━━━\u001b[0m\u001b[37m\u001b[0m \u001b[1m1s\u001b[0m 10ms/step - accuracy: 0.5008 - loss: 0.6934\n",
      "Epoch 30/37\n",
      "\u001b[1m69/69\u001b[0m \u001b[32m━━━━━━━━━━━━━━━━━━━━\u001b[0m\u001b[37m\u001b[0m \u001b[1m1s\u001b[0m 10ms/step - accuracy: 0.5136 - loss: 0.6920\n",
      "Epoch 31/37\n",
      "\u001b[1m69/69\u001b[0m \u001b[32m━━━━━━━━━━━━━━━━━━━━\u001b[0m\u001b[37m\u001b[0m \u001b[1m1s\u001b[0m 10ms/step - accuracy: 0.5086 - loss: 0.6927\n",
      "Epoch 32/37\n",
      "\u001b[1m69/69\u001b[0m \u001b[32m━━━━━━━━━━━━━━━━━━━━\u001b[0m\u001b[37m\u001b[0m \u001b[1m1s\u001b[0m 10ms/step - accuracy: 0.5101 - loss: 0.6931\n",
      "Epoch 33/37\n",
      "\u001b[1m69/69\u001b[0m \u001b[32m━━━━━━━━━━━━━━━━━━━━\u001b[0m\u001b[37m\u001b[0m \u001b[1m1s\u001b[0m 10ms/step - accuracy: 0.5062 - loss: 0.6925\n",
      "Epoch 34/37\n",
      "\u001b[1m69/69\u001b[0m \u001b[32m━━━━━━━━━━━━━━━━━━━━\u001b[0m\u001b[37m\u001b[0m \u001b[1m1s\u001b[0m 10ms/step - accuracy: 0.4993 - loss: 0.6930\n",
      "Epoch 35/37\n",
      "\u001b[1m69/69\u001b[0m \u001b[32m━━━━━━━━━━━━━━━━━━━━\u001b[0m\u001b[37m\u001b[0m \u001b[1m1s\u001b[0m 10ms/step - accuracy: 0.5300 - loss: 0.6905\n",
      "Epoch 36/37\n",
      "\u001b[1m69/69\u001b[0m \u001b[32m━━━━━━━━━━━━━━━━━━━━\u001b[0m\u001b[37m\u001b[0m \u001b[1m1s\u001b[0m 10ms/step - accuracy: 0.5317 - loss: 0.6912\n",
      "Epoch 37/37\n",
      "\u001b[1m69/69\u001b[0m \u001b[32m━━━━━━━━━━━━━━━━━━━━\u001b[0m\u001b[37m\u001b[0m \u001b[1m1s\u001b[0m 10ms/step - accuracy: 0.5023 - loss: 0.6923\n"
     ]
    },
    {
     "data": {
      "text/plain": [
       "<keras.src.callbacks.history.History at 0x157510afdc0>"
      ]
     },
     "execution_count": 37,
     "metadata": {},
     "output_type": "execute_result"
    }
   ],
   "source": [
    "# Entrenar el mejor modelo con los mejores hiperparámetros\n",
    "best_params = study.best_params\n",
    "model = Sequential()\n",
    "model.add(LSTM(units=best_params['units'], return_sequences=True, input_shape=(X_train.shape[1], X_train.shape[2])))\n",
    "model.add(Dropout(best_params['dropout1']))\n",
    "model.add(LSTM(units=best_params['units']))\n",
    "model.add(Dropout(best_params['dropout2']))\n",
    "model.add(Dense(1, activation='sigmoid'))\n",
    "\n",
    "model.compile(optimizer=tf.keras.optimizers.Adam(learning_rate=best_params['lr']), loss='binary_crossentropy', metrics=['accuracy'])\n",
    "\n",
    "model.fit(X_train, y_train, epochs=best_params['epochs'], batch_size=best_params['batch_size'], verbose=1)\n"
   ]
  },
  {
   "cell_type": "code",
   "execution_count": 38,
   "metadata": {},
   "outputs": [
    {
     "name": "stdout",
     "output_type": "stream",
     "text": [
      "\u001b[1m31/31\u001b[0m \u001b[32m━━━━━━━━━━━━━━━━━━━━\u001b[0m\u001b[37m\u001b[0m \u001b[1m0s\u001b[0m 3ms/step - accuracy: 0.5056 - loss: 0.6932\n",
      "Model Accuracy: 0.5121212005615234\n"
     ]
    }
   ],
   "source": [
    "# Evaluar el modelo\n",
    "loss, accuracy = model.evaluate(X_test, y_test)\n",
    "print(f'Model Accuracy: {accuracy}')\n"
   ]
  },
  {
   "cell_type": "code",
   "execution_count": 40,
   "metadata": {},
   "outputs": [
    {
     "name": "stdout",
     "output_type": "stream",
     "text": [
      "\u001b[1m31/31\u001b[0m \u001b[32m━━━━━━━━━━━━━━━━━━━━\u001b[0m\u001b[37m\u001b[0m \u001b[1m0s\u001b[0m 9ms/step\n"
     ]
    }
   ],
   "source": [
    "# Hacer predicciones en el conjunto de prueba\n",
    "y_pred = model.predict(X_test)\n",
    "y_pred = (y_pred > 0.5).astype(int)  # Convertir las probabilidades a etiquetas binarias\n"
   ]
  },
  {
   "cell_type": "code",
   "execution_count": 44,
   "metadata": {},
   "outputs": [
    {
     "data": {
      "image/png": "[encoded data removed]",
      "text/plain": [
       "<Figure size 640x480 with 2 Axes>"
      ]
     },
     "metadata": {},
     "output_type": "display_data"
    }
   ],
   "source": [
    "# Generar la matriz de confusión\n",
    "cm = confusion_matrix(y_test, y_pred)\n",
    "\n",
    "# Mostrar la matriz de confusión\n",
    "disp = ConfusionMatrixDisplay(confusion_matrix=cm, display_labels=[0, 1])\n",
    "disp.plot(cmap=plt.cm.Blues)\n",
    "plt.title('Confusion Matrix EURUSD')\n",
    "plt.show()\n"
   ]
  },
  {
   "cell_type": "markdown",
   "metadata": {},
   "source": [
    "# JPYUSD"
   ]
  },
  {
   "cell_type": "code",
   "execution_count": 46,
   "metadata": {},
   "outputs": [],
   "source": [
    "# Seleccionar las características y los objetivos\n",
    "features = data[['eurusd', 'gbpusd', 'nq', 'sp500', 'nikkei', 'ftse', 'gdp_us',\n",
    "       'gdp_uk', 'gdp_jp', 'gdp_ez', 'unrate_us', 'unrate_uk', 'unrate_jp',\n",
    "       'unrate_ez', 'm0_us', 'm0_jp', 'm0_ez', 'ir_us', 'ir_uk',\n",
    "       'ir_deposit_ez', 'ir_lending_ez', 'ir_MRO_ez', 'ir_jp']]\n"
   ]
  },
  {
   "cell_type": "code",
   "execution_count": 47,
   "metadata": {},
   "outputs": [],
   "source": [
    "# Crear la columna objetivo: 1 si el precio sube, 0 si baja\n",
    "target_jpyusd = data['jpyusd']\n",
    "target_shifted_jpyusd = target_jpyusd.shift(-1)\n",
    "target_direction_jpyusd = (target_shifted_jpyusd > target_jpyusd).astype(int)\n",
    "target_direction_jpyusd = target_direction_jpyusd[:-1]  # Eliminar el último valor que será NaN por el shift\n",
    "\n",
    "features_jpyusd = features[:-1]  # Alinear con el objetivo\n",
    "\n",
    "# Escalar los datos\n",
    "scaler_jpyusd = MinMaxScaler()\n",
    "features_scaled_jpyusd = scaler_jpyusd.fit_transform(features_jpyusd)\n",
    "\n",
    "# Crear las secuencias para LSTM\n",
    "def create_sequences(features, target, time_steps=1):\n",
    "    X, y = [], []\n",
    "    for i in range(len(features) - time_steps):\n",
    "        X.append(features[i:(i + time_steps)])\n",
    "        y.append(target[i + time_steps])\n",
    "    return np.array(X), np.array(y)\n",
    "\n",
    "time_steps = 10\n",
    "X_jpyusd, y_jpyusd = create_sequences(features_scaled_jpyusd, target_direction_jpyusd.values, time_steps)\n",
    "\n",
    "# Dividir los datos en conjuntos de entrenamiento y prueba\n",
    "X_train_jpyusd, X_test_jpyusd, y_train_jpyusd, y_test_jpyusd = train_test_split(X_jpyusd, y_jpyusd, test_size=0.2, shuffle=False)\n"
   ]
  },
  {
   "cell_type": "code",
   "execution_count": 48,
   "metadata": {},
   "outputs": [],
   "source": [
    "# Función de objetivo para Optuna\n",
    "def objective_jpyusd(trial):\n",
    "    model = Sequential()\n",
    "    model.add(LSTM(units=trial.suggest_int('units', 50, 200), return_sequences=True, input_shape=(X_train_jpyusd.shape[1], X_train_jpyusd.shape[2])))\n",
    "    model.add(Dropout(trial.suggest_float('dropout1', 0.2, 0.5)))\n",
    "    model.add(LSTM(units=trial.suggest_int('units', 50, 200)))\n",
    "    model.add(Dropout(trial.suggest_float('dropout2', 0.2, 0.5)))\n",
    "    model.add(Dense(1, activation='sigmoid'))\n",
    "\n",
    "    model.compile(optimizer=tf.keras.optimizers.Adam(learning_rate=trial.suggest_float('lr', 1e-4, 1e-2)), loss='binary_crossentropy', metrics=['accuracy'])\n",
    "\n",
    "    model.fit(X_train_jpyusd, y_train_jpyusd, epochs=trial.suggest_int('epochs', 10, 50), batch_size=trial.suggest_int('batch_size', 16, 64), verbose=0)\n",
    "    loss, accuracy = model.evaluate(X_test_jpyusd, y_test_jpyusd, verbose=0)\n",
    "    return accuracy\n"
   ]
  },
  {
   "cell_type": "code",
   "execution_count": 50,
   "metadata": {},
   "outputs": [
    {
     "name": "stderr",
     "output_type": "stream",
     "text": [
      "[I 2024-06-03 21:27:10,299] A new study created in memory with name: no-name-1e83fb98-1795-44b0-ab93-3f79a5c50f6d\n",
      "c:\\Users\\usuario\\anaconda3\\envs\\TFM\\lib\\site-packages\\keras\\src\\layers\\rnn\\rnn.py:204: UserWarning: Do not pass an `input_shape`/`input_dim` argument to a layer. When using Sequential models, prefer using an `Input(shape)` object as the first layer in the model instead.\n",
      "  super().__init__(**kwargs)\n",
      "[I 2024-06-03 21:27:48,859] Trial 0 finished with value: 0.5292929410934448 and parameters: {'units': 161, 'dropout1': 0.2861482179117896, 'dropout2': 0.2738215476538362, 'lr': 0.0074258589250227386, 'epochs': 28, 'batch_size': 28}. Best is trial 0 with value: 0.5292929410934448.\n",
      "[I 2024-06-03 21:28:33,225] Trial 1 finished with value: 0.5292929410934448 and parameters: {'units': 130, 'dropout1': 0.49398004044782556, 'dropout2': 0.4373718902249113, 'lr': 0.008705326499781738, 'epochs': 42, 'batch_size': 26}. Best is trial 0 with value: 0.5292929410934448.\n",
      "[I 2024-06-03 21:29:18,339] Trial 2 finished with value: 0.4747474789619446 and parameters: {'units': 192, 'dropout1': 0.22606379411699007, 'dropout2': 0.43502870597498355, 'lr': 0.0007640207897996567, 'epochs': 42, 'batch_size': 60}. Best is trial 0 with value: 0.5292929410934448.\n",
      "[I 2024-06-03 21:30:32,427] Trial 3 finished with value: 0.5292929410934448 and parameters: {'units': 189, 'dropout1': 0.4427822479284071, 'dropout2': 0.33072781753330466, 'lr': 0.008003810288315176, 'epochs': 46, 'batch_size': 25}. Best is trial 0 with value: 0.5292929410934448.\n",
      "[I 2024-06-03 21:30:51,755] Trial 4 finished with value: 0.5292929410934448 and parameters: {'units': 156, 'dropout1': 0.25757868657909455, 'dropout2': 0.29139922279443087, 'lr': 0.004497550845954782, 'epochs': 21, 'batch_size': 56}. Best is trial 0 with value: 0.5292929410934448.\n",
      "[I 2024-06-03 21:31:57,246] Trial 5 finished with value: 0.5292929410934448 and parameters: {'units': 138, 'dropout1': 0.2146947749601964, 'dropout2': 0.4649580922294208, 'lr': 0.008428625867352367, 'epochs': 49, 'batch_size': 17}. Best is trial 0 with value: 0.5292929410934448.\n",
      "[I 2024-06-03 21:32:46,166] Trial 6 finished with value: 0.5292929410934448 and parameters: {'units': 102, 'dropout1': 0.4074053064431492, 'dropout2': 0.34819434999829746, 'lr': 0.008526404725961013, 'epochs': 47, 'batch_size': 17}. Best is trial 0 with value: 0.5292929410934448.\n",
      "[I 2024-06-03 21:33:04,816] Trial 7 finished with value: 0.5292929410934448 and parameters: {'units': 103, 'dropout1': 0.402385739427803, 'dropout2': 0.4217175486241671, 'lr': 0.0021443963224927094, 'epochs': 29, 'batch_size': 42}. Best is trial 0 with value: 0.5292929410934448.\n",
      "[I 2024-06-03 21:33:20,560] Trial 8 finished with value: 0.5292929410934448 and parameters: {'units': 127, 'dropout1': 0.2789063182221358, 'dropout2': 0.2691236323761765, 'lr': 0.008465177906988029, 'epochs': 19, 'batch_size': 42}. Best is trial 0 with value: 0.5292929410934448.\n",
      "[I 2024-06-03 21:33:51,880] Trial 9 finished with value: 0.5292929410934448 and parameters: {'units': 50, 'dropout1': 0.4094983734493208, 'dropout2': 0.21317367129092776, 'lr': 0.0039010598015734197, 'epochs': 49, 'batch_size': 21}. Best is trial 0 with value: 0.5292929410934448.\n",
      "[I 2024-06-03 21:34:26,833] Trial 10 finished with value: 0.5292929410934448 and parameters: {'units': 165, 'dropout1': 0.3156315325891878, 'dropout2': 0.20929565706038267, 'lr': 0.006395542237369576, 'epochs': 32, 'batch_size': 32}. Best is trial 0 with value: 0.5292929410934448.\n",
      "[I 2024-06-03 21:34:53,063] Trial 11 finished with value: 0.5292929410934448 and parameters: {'units': 100, 'dropout1': 0.4889699457216374, 'dropout2': 0.39898565395136826, 'lr': 0.009787653038216144, 'epochs': 35, 'batch_size': 31}. Best is trial 0 with value: 0.5292929410934448.\n",
      "[I 2024-06-03 21:35:10,492] Trial 12 finished with value: 0.5292929410934448 and parameters: {'units': 160, 'dropout1': 0.35861570345438787, 'dropout2': 0.4998363199661238, 'lr': 0.006110380597212438, 'epochs': 11, 'batch_size': 32}. Best is trial 0 with value: 0.5292929410934448.\n",
      "[I 2024-06-03 21:35:53,105] Trial 13 finished with value: 0.5292929410934448 and parameters: {'units': 139, 'dropout1': 0.49783431922922705, 'dropout2': 0.38789388991255697, 'lr': 0.006875902912331085, 'epochs': 39, 'batch_size': 27}. Best is trial 0 with value: 0.5292929410934448.\n",
      "[I 2024-06-03 21:36:08,648] Trial 14 finished with value: 0.5282828211784363 and parameters: {'units': 77, 'dropout1': 0.32960184049452934, 'dropout2': 0.3667491519692122, 'lr': 0.009743281229773776, 'epochs': 26, 'batch_size': 38}. Best is trial 0 with value: 0.5292929410934448.\n",
      "[I 2024-06-03 21:36:44,585] Trial 15 finished with value: 0.5292929410934448 and parameters: {'units': 176, 'dropout1': 0.2954296079156592, 'dropout2': 0.31648509364563704, 'lr': 0.005415631324563479, 'epochs': 37, 'batch_size': 50}. Best is trial 0 with value: 0.5292929410934448.\n",
      "[I 2024-06-03 21:37:10,418] Trial 16 finished with value: 0.5292929410934448 and parameters: {'units': 142, 'dropout1': 0.3516342957780977, 'dropout2': 0.2561419885817262, 'lr': 0.007250010260543254, 'epochs': 22, 'batch_size': 25}. Best is trial 0 with value: 0.5292929410934448.\n",
      "[I 2024-06-03 21:37:43,455] Trial 17 finished with value: 0.5292929410934448 and parameters: {'units': 121, 'dropout1': 0.25485396271590055, 'dropout2': 0.3652967761913337, 'lr': 0.007439625698850311, 'epochs': 42, 'batch_size': 36}. Best is trial 0 with value: 0.5292929410934448.\n",
      "[I 2024-06-03 21:37:55,943] Trial 18 finished with value: 0.5292929410934448 and parameters: {'units': 177, 'dropout1': 0.4593999290179691, 'dropout2': 0.3108538595198353, 'lr': 0.00579816368383912, 'epochs': 12, 'batch_size': 46}. Best is trial 0 with value: 0.5292929410934448.\n",
      "[I 2024-06-03 21:38:18,461] Trial 19 finished with value: 0.5292929410934448 and parameters: {'units': 81, 'dropout1': 0.36476189558190064, 'dropout2': 0.44615197018474, 'lr': 0.009431744749054, 'epochs': 27, 'batch_size': 21}. Best is trial 0 with value: 0.5292929410934448.\n",
      "[I 2024-06-03 21:38:46,497] Trial 20 finished with value: 0.5292929410934448 and parameters: {'units': 117, 'dropout1': 0.3196222370320879, 'dropout2': 0.39858825795324493, 'lr': 0.00724197893347566, 'epochs': 32, 'batch_size': 29}. Best is trial 0 with value: 0.5292929410934448.\n",
      "[I 2024-06-03 21:39:48,335] Trial 21 finished with value: 0.5292929410934448 and parameters: {'units': 189, 'dropout1': 0.45844706768392235, 'dropout2': 0.34392574509159707, 'lr': 0.007897431115150835, 'epochs': 44, 'batch_size': 23}. Best is trial 0 with value: 0.5292929410934448.\n",
      "[I 2024-06-03 21:40:50,527] Trial 22 finished with value: 0.5292929410934448 and parameters: {'units': 200, 'dropout1': 0.4585203836451965, 'dropout2': 0.3262733477994437, 'lr': 0.008834327916973061, 'epochs': 45, 'batch_size': 35}. Best is trial 0 with value: 0.5292929410934448.\n",
      "[I 2024-06-03 21:41:43,451] Trial 23 finished with value: 0.4707070589065552 and parameters: {'units': 176, 'dropout1': 0.4306103743445193, 'dropout2': 0.2971265413472809, 'lr': 0.00789878503205486, 'epochs': 39, 'batch_size': 25}. Best is trial 0 with value: 0.5292929410934448.\n",
      "[I 2024-06-03 21:42:40,595] Trial 24 finished with value: 0.5292929410934448 and parameters: {'units': 151, 'dropout1': 0.4786961283343345, 'dropout2': 0.33243116693723823, 'lr': 0.009134142180792455, 'epochs': 34, 'batch_size': 16}. Best is trial 0 with value: 0.5292929410934448.\n",
      "[I 2024-06-03 21:43:44,660] Trial 25 finished with value: 0.5292929410934448 and parameters: {'units': 168, 'dropout1': 0.49873474850204347, 'dropout2': 0.3702156775664793, 'lr': 0.006558265997324839, 'epochs': 50, 'batch_size': 28}. Best is trial 0 with value: 0.5292929410934448.\n",
      "[I 2024-06-03 21:44:21,149] Trial 26 finished with value: 0.5292929410934448 and parameters: {'units': 150, 'dropout1': 0.37875188080052946, 'dropout2': 0.2734726412970924, 'lr': 0.007961262711229138, 'epochs': 24, 'batch_size': 20}. Best is trial 0 with value: 0.5292929410934448.\n",
      "[I 2024-06-03 21:44:42,492] Trial 27 finished with value: 0.5292929410934448 and parameters: {'units': 187, 'dropout1': 0.4351759054694856, 'dropout2': 0.24307188461753693, 'lr': 0.009884471795779816, 'epochs': 17, 'batch_size': 35}. Best is trial 0 with value: 0.5292929410934448.\n",
      "[I 2024-06-03 21:45:21,095] Trial 28 finished with value: 0.5292929410934448 and parameters: {'units': 129, 'dropout1': 0.4746108879647261, 'dropout2': 0.2986280156099493, 'lr': 0.009088379483203476, 'epochs': 40, 'batch_size': 26}. Best is trial 0 with value: 0.5292929410934448.\n",
      "[I 2024-06-03 21:46:05,104] Trial 29 finished with value: 0.5292929410934448 and parameters: {'units': 200, 'dropout1': 0.43934350481014905, 'dropout2': 0.3243483965340589, 'lr': 0.006738490464736131, 'epochs': 45, 'batch_size': 63}. Best is trial 0 with value: 0.5292929410934448.\n",
      "[I 2024-06-03 21:46:53,395] Trial 30 finished with value: 0.5292929410934448 and parameters: {'units': 179, 'dropout1': 0.38266181837116314, 'dropout2': 0.34226690803217996, 'lr': 0.008102110352801332, 'epochs': 42, 'batch_size': 31}. Best is trial 0 with value: 0.5292929410934448.\n",
      "[I 2024-06-03 21:47:10,491] Trial 31 finished with value: 0.5292929410934448 and parameters: {'units': 159, 'dropout1': 0.2530605839106012, 'dropout2': 0.2876049034259746, 'lr': 0.004707760167699542, 'epochs': 20, 'batch_size': 55}. Best is trial 0 with value: 0.5292929410934448.\n",
      "[I 2024-06-03 21:47:24,305] Trial 32 finished with value: 0.5292929410934448 and parameters: {'units': 149, 'dropout1': 0.2002188057875505, 'dropout2': 0.2874342771794217, 'lr': 0.005074615956218383, 'epochs': 15, 'batch_size': 55}. Best is trial 0 with value: 0.5292929410934448.\n",
      "[I 2024-06-03 21:47:42,460] Trial 33 finished with value: 0.5292929410934448 and parameters: {'units': 134, 'dropout1': 0.2282994923275548, 'dropout2': 0.31073934656213853, 'lr': 0.00860641223506891, 'epochs': 24, 'batch_size': 57}. Best is trial 0 with value: 0.5292929410934448.\n",
      "[I 2024-06-03 21:48:13,762] Trial 34 finished with value: 0.5292929410934448 and parameters: {'units': 168, 'dropout1': 0.290770627405489, 'dropout2': 0.3517098341391153, 'lr': 0.0039039276114271907, 'epochs': 28, 'batch_size': 49}. Best is trial 0 with value: 0.5292929410934448.\n",
      "[I 2024-06-03 21:48:49,196] Trial 35 finished with value: 0.5292929410934448 and parameters: {'units': 112, 'dropout1': 0.3324975676536166, 'dropout2': 0.43264301904803526, 'lr': 0.008877196955983966, 'epochs': 31, 'batch_size': 19}. Best is trial 0 with value: 0.5292929410934448.\n",
      "[I 2024-06-03 21:49:13,122] Trial 36 finished with value: 0.5292929410934448 and parameters: {'units': 157, 'dropout1': 0.2580451903646734, 'dropout2': 0.24364944358201707, 'lr': 0.00755648389224268, 'epochs': 24, 'batch_size': 44}. Best is trial 0 with value: 0.5292929410934448.\n",
      "[I 2024-06-03 21:50:09,683] Trial 37 finished with value: 0.5292929410934448 and parameters: {'units': 187, 'dropout1': 0.27425726597377625, 'dropout2': 0.2750083284963544, 'lr': 0.008565196110671965, 'epochs': 47, 'batch_size': 39}. Best is trial 0 with value: 0.5292929410934448.\n",
      "[I 2024-06-03 21:51:03,361] Trial 38 finished with value: 0.4767676889896393 and parameters: {'units': 144, 'dropout1': 0.41675461589776985, 'dropout2': 0.3103605786256286, 'lr': 0.00017449265616208826, 'epochs': 47, 'batch_size': 24}. Best is trial 0 with value: 0.5292929410934448.\n",
      "[I 2024-06-03 21:51:41,722] Trial 39 finished with value: 0.5292929410934448 and parameters: {'units': 132, 'dropout1': 0.2308793089731464, 'dropout2': 0.47751507150795747, 'lr': 0.002067544267226987, 'epochs': 34, 'batch_size': 22}. Best is trial 0 with value: 0.5292929410934448.\n",
      "[I 2024-06-03 21:52:03,574] Trial 40 finished with value: 0.5292929410934448 and parameters: {'units': 109, 'dropout1': 0.30111579643647035, 'dropout2': 0.4255978509683929, 'lr': 0.00618953059602102, 'epochs': 36, 'batch_size': 63}. Best is trial 0 with value: 0.5292929410934448.\n",
      "[I 2024-06-03 21:53:00,353] Trial 41 finished with value: 0.5292929410934448 and parameters: {'units': 138, 'dropout1': 0.20884007499209292, 'dropout2': 0.44454818658538037, 'lr': 0.008286155921869454, 'epochs': 44, 'batch_size': 18}. Best is trial 0 with value: 0.5292929410934448.\n",
      "[I 2024-06-03 21:54:01,320] Trial 42 finished with value: 0.5292929410934448 and parameters: {'units': 126, 'dropout1': 0.2395352297483132, 'dropout2': 0.46211532253314985, 'lr': 0.008495482626925632, 'epochs': 46, 'batch_size': 16}. Best is trial 0 with value: 0.5292929410934448.\n",
      "[I 2024-06-03 21:54:56,381] Trial 43 finished with value: 0.5292929410934448 and parameters: {'units': 155, 'dropout1': 0.21837341705757618, 'dropout2': 0.4097020905582339, 'lr': 0.009566224280196071, 'epochs': 49, 'batch_size': 29}. Best is trial 0 with value: 0.5292929410934448.\n",
      "[I 2024-06-03 21:55:47,499] Trial 44 finished with value: 0.5292929410934448 and parameters: {'units': 165, 'dropout1': 0.268048038592061, 'dropout2': 0.48989488965396194, 'lr': 0.006872815652782753, 'epochs': 49, 'batch_size': 31}. Best is trial 0 with value: 0.5292929410934448.\n",
      "[I 2024-06-03 21:56:15,872] Trial 45 finished with value: 0.5292929410934448 and parameters: {'units': 95, 'dropout1': 0.241380213365534, 'dropout2': 0.45753563995870355, 'lr': 0.009268915460643345, 'epochs': 30, 'batch_size': 19}. Best is trial 0 with value: 0.5292929410934448.\n",
      "[I 2024-06-03 21:56:33,458] Trial 46 finished with value: 0.5292929410934448 and parameters: {'units': 143, 'dropout1': 0.28287244044819715, 'dropout2': 0.4744089512583672, 'lr': 0.009956668098505966, 'epochs': 19, 'batch_size': 41}. Best is trial 0 with value: 0.5292929410934448.\n",
      "[I 2024-06-03 21:57:05,890] Trial 47 finished with value: 0.5292929410934448 and parameters: {'units': 119, 'dropout1': 0.21610472963975344, 'dropout2': 0.42110335334995175, 'lr': 0.007557791507731282, 'epochs': 41, 'batch_size': 33}. Best is trial 0 with value: 0.5292929410934448.\n",
      "[I 2024-06-03 21:58:00,269] Trial 48 finished with value: 0.4707070589065552 and parameters: {'units': 182, 'dropout1': 0.48726517671327474, 'dropout2': 0.4996114248460142, 'lr': 0.007119070413001747, 'epochs': 38, 'batch_size': 22}. Best is trial 0 with value: 0.5292929410934448.\n",
      "[I 2024-06-03 21:58:23,371] Trial 49 finished with value: 0.5292929410934448 and parameters: {'units': 54, 'dropout1': 0.3088556227222301, 'dropout2': 0.2610277651660283, 'lr': 0.008222870710317708, 'epochs': 43, 'batch_size': 27}. Best is trial 0 with value: 0.5292929410934448.\n"
     ]
    },
    {
     "name": "stdout",
     "output_type": "stream",
     "text": [
      "FrozenTrial(number=0, state=TrialState.COMPLETE, values=[0.5292929410934448], datetime_start=datetime.datetime(2024, 6, 3, 21, 27, 10, 300866), datetime_complete=datetime.datetime(2024, 6, 3, 21, 27, 48, 859066), params={'units': 161, 'dropout1': 0.2861482179117896, 'dropout2': 0.2738215476538362, 'lr': 0.0074258589250227386, 'epochs': 28, 'batch_size': 28}, user_attrs={}, system_attrs={}, intermediate_values={}, distributions={'units': IntDistribution(high=200, log=False, low=50, step=1), 'dropout1': FloatDistribution(high=0.5, log=False, low=0.2, step=None), 'dropout2': FloatDistribution(high=0.5, log=False, low=0.2, step=None), 'lr': FloatDistribution(high=0.01, log=False, low=0.0001, step=None), 'epochs': IntDistribution(high=50, log=False, low=10, step=1), 'batch_size': IntDistribution(high=64, log=False, low=16, step=1)}, trial_id=0, value=None)\n"
     ]
    }
   ],
   "source": [
    "# Crear el estudio Optuna y optimizar\n",
    "study_jpyusd = optuna.create_study(direction='maximize')\n",
    "study_jpyusd.optimize(objective_jpyusd, n_trials=50)\n",
    "\n",
    "# Imprimir los mejores hiperparámetros\n",
    "print(study_jpyusd.best_trial)\n"
   ]
  },
  {
   "cell_type": "code",
   "execution_count": 51,
   "metadata": {},
   "outputs": [
    {
     "name": "stdout",
     "output_type": "stream",
     "text": [
      "Epoch 1/28\n"
     ]
    },
    {
     "name": "stderr",
     "output_type": "stream",
     "text": [
      "c:\\Users\\usuario\\anaconda3\\envs\\TFM\\lib\\site-packages\\keras\\src\\layers\\rnn\\rnn.py:204: UserWarning: Do not pass an `input_shape`/`input_dim` argument to a layer. When using Sequential models, prefer using an `Input(shape)` object as the first layer in the model instead.\n",
      "  super().__init__(**kwargs)\n"
     ]
    },
    {
     "name": "stdout",
     "output_type": "stream",
     "text": [
      "\u001b[1m142/142\u001b[0m \u001b[32m━━━━━━━━━━━━━━━━━━━━\u001b[0m\u001b[37m\u001b[0m \u001b[1m3s\u001b[0m 9ms/step - accuracy: 0.5108 - loss: 0.7012\n",
      "Epoch 2/28\n",
      "\u001b[1m142/142\u001b[0m \u001b[32m━━━━━━━━━━━━━━━━━━━━\u001b[0m\u001b[37m\u001b[0m \u001b[1m1s\u001b[0m 9ms/step - accuracy: 0.5113 - loss: 0.6939\n",
      "Epoch 3/28\n",
      "\u001b[1m142/142\u001b[0m \u001b[32m━━━━━━━━━━━━━━━━━━━━\u001b[0m\u001b[37m\u001b[0m \u001b[1m1s\u001b[0m 9ms/step - accuracy: 0.5041 - loss: 0.6945\n",
      "Epoch 4/28\n",
      "\u001b[1m142/142\u001b[0m \u001b[32m━━━━━━━━━━━━━━━━━━━━\u001b[0m\u001b[37m\u001b[0m \u001b[1m1s\u001b[0m 9ms/step - accuracy: 0.5068 - loss: 0.6954\n",
      "Epoch 5/28\n",
      "\u001b[1m142/142\u001b[0m \u001b[32m━━━━━━━━━━━━━━━━━━━━\u001b[0m\u001b[37m\u001b[0m \u001b[1m1s\u001b[0m 9ms/step - accuracy: 0.5179 - loss: 0.6935\n",
      "Epoch 6/28\n",
      "\u001b[1m142/142\u001b[0m \u001b[32m━━━━━━━━━━━━━━━━━━━━\u001b[0m\u001b[37m\u001b[0m \u001b[1m1s\u001b[0m 9ms/step - accuracy: 0.5088 - loss: 0.6936\n",
      "Epoch 7/28\n",
      "\u001b[1m142/142\u001b[0m \u001b[32m━━━━━━━━━━━━━━━━━━━━\u001b[0m\u001b[37m\u001b[0m \u001b[1m1s\u001b[0m 10ms/step - accuracy: 0.5215 - loss: 0.6916\n",
      "Epoch 8/28\n",
      "\u001b[1m142/142\u001b[0m \u001b[32m━━━━━━━━━━━━━━━━━━━━\u001b[0m\u001b[37m\u001b[0m \u001b[1m1s\u001b[0m 9ms/step - accuracy: 0.5047 - loss: 0.6935\n",
      "Epoch 9/28\n",
      "\u001b[1m142/142\u001b[0m \u001b[32m━━━━━━━━━━━━━━━━━━━━\u001b[0m\u001b[37m\u001b[0m \u001b[1m1s\u001b[0m 9ms/step - accuracy: 0.5250 - loss: 0.6914\n",
      "Epoch 10/28\n",
      "\u001b[1m142/142\u001b[0m \u001b[32m━━━━━━━━━━━━━━━━━━━━\u001b[0m\u001b[37m\u001b[0m \u001b[1m1s\u001b[0m 9ms/step - accuracy: 0.5247 - loss: 0.6928\n",
      "Epoch 11/28\n",
      "\u001b[1m142/142\u001b[0m \u001b[32m━━━━━━━━━━━━━━━━━━━━\u001b[0m\u001b[37m\u001b[0m \u001b[1m1s\u001b[0m 9ms/step - accuracy: 0.5140 - loss: 0.6933\n",
      "Epoch 12/28\n",
      "\u001b[1m142/142\u001b[0m \u001b[32m━━━━━━━━━━━━━━━━━━━━\u001b[0m\u001b[37m\u001b[0m \u001b[1m1s\u001b[0m 9ms/step - accuracy: 0.5121 - loss: 0.6929\n",
      "Epoch 13/28\n",
      "\u001b[1m142/142\u001b[0m \u001b[32m━━━━━━━━━━━━━━━━━━━━\u001b[0m\u001b[37m\u001b[0m \u001b[1m1s\u001b[0m 9ms/step - accuracy: 0.5142 - loss: 0.6931\n",
      "Epoch 14/28\n",
      "\u001b[1m142/142\u001b[0m \u001b[32m━━━━━━━━━━━━━━━━━━━━\u001b[0m\u001b[37m\u001b[0m \u001b[1m1s\u001b[0m 9ms/step - accuracy: 0.5254 - loss: 0.6921\n",
      "Epoch 15/28\n",
      "\u001b[1m142/142\u001b[0m \u001b[32m━━━━━━━━━━━━━━━━━━━━\u001b[0m\u001b[37m\u001b[0m \u001b[1m1s\u001b[0m 9ms/step - accuracy: 0.5024 - loss: 0.6934\n",
      "Epoch 16/28\n",
      "\u001b[1m142/142\u001b[0m \u001b[32m━━━━━━━━━━━━━━━━━━━━\u001b[0m\u001b[37m\u001b[0m \u001b[1m1s\u001b[0m 9ms/step - accuracy: 0.5203 - loss: 0.6928\n",
      "Epoch 17/28\n",
      "\u001b[1m142/142\u001b[0m \u001b[32m━━━━━━━━━━━━━━━━━━━━\u001b[0m\u001b[37m\u001b[0m \u001b[1m1s\u001b[0m 9ms/step - accuracy: 0.5095 - loss: 0.6935\n",
      "Epoch 18/28\n",
      "\u001b[1m142/142\u001b[0m \u001b[32m━━━━━━━━━━━━━━━━━━━━\u001b[0m\u001b[37m\u001b[0m \u001b[1m1s\u001b[0m 9ms/step - accuracy: 0.5049 - loss: 0.6936\n",
      "Epoch 19/28\n",
      "\u001b[1m142/142\u001b[0m \u001b[32m━━━━━━━━━━━━━━━━━━━━\u001b[0m\u001b[37m\u001b[0m \u001b[1m1s\u001b[0m 9ms/step - accuracy: 0.5130 - loss: 0.6935\n",
      "Epoch 20/28\n",
      "\u001b[1m142/142\u001b[0m \u001b[32m━━━━━━━━━━━━━━━━━━━━\u001b[0m\u001b[37m\u001b[0m \u001b[1m1s\u001b[0m 9ms/step - accuracy: 0.5136 - loss: 0.6930\n",
      "Epoch 21/28\n",
      "\u001b[1m142/142\u001b[0m \u001b[32m━━━━━━━━━━━━━━━━━━━━\u001b[0m\u001b[37m\u001b[0m \u001b[1m1s\u001b[0m 9ms/step - accuracy: 0.5274 - loss: 0.6915\n",
      "Epoch 22/28\n",
      "\u001b[1m142/142\u001b[0m \u001b[32m━━━━━━━━━━━━━━━━━━━━\u001b[0m\u001b[37m\u001b[0m \u001b[1m1s\u001b[0m 9ms/step - accuracy: 0.4957 - loss: 0.6940\n",
      "Epoch 23/28\n",
      "\u001b[1m142/142\u001b[0m \u001b[32m━━━━━━━━━━━━━━━━━━━━\u001b[0m\u001b[37m\u001b[0m \u001b[1m1s\u001b[0m 9ms/step - accuracy: 0.5166 - loss: 0.6925\n",
      "Epoch 24/28\n",
      "\u001b[1m142/142\u001b[0m \u001b[32m━━━━━━━━━━━━━━━━━━━━\u001b[0m\u001b[37m\u001b[0m \u001b[1m1s\u001b[0m 9ms/step - accuracy: 0.5075 - loss: 0.6934\n",
      "Epoch 25/28\n",
      "\u001b[1m142/142\u001b[0m \u001b[32m━━━━━━━━━━━━━━━━━━━━\u001b[0m\u001b[37m\u001b[0m \u001b[1m1s\u001b[0m 9ms/step - accuracy: 0.5322 - loss: 0.6914\n",
      "Epoch 26/28\n",
      "\u001b[1m142/142\u001b[0m \u001b[32m━━━━━━━━━━━━━━━━━━━━\u001b[0m\u001b[37m\u001b[0m \u001b[1m1s\u001b[0m 9ms/step - accuracy: 0.5352 - loss: 0.6915\n",
      "Epoch 27/28\n",
      "\u001b[1m142/142\u001b[0m \u001b[32m━━━━━━━━━━━━━━━━━━━━\u001b[0m\u001b[37m\u001b[0m \u001b[1m1s\u001b[0m 9ms/step - accuracy: 0.5049 - loss: 0.6930\n",
      "Epoch 28/28\n",
      "\u001b[1m142/142\u001b[0m \u001b[32m━━━━━━━━━━━━━━━━━━━━\u001b[0m\u001b[37m\u001b[0m \u001b[1m1s\u001b[0m 9ms/step - accuracy: 0.5196 - loss: 0.6927\n"
     ]
    },
    {
     "data": {
      "text/plain": [
       "<keras.src.callbacks.history.History at 0x1576e3ba110>"
      ]
     },
     "execution_count": 51,
     "metadata": {},
     "output_type": "execute_result"
    }
   ],
   "source": [
    "# Entrenar el mejor modelo con los mejores hiperparámetros\n",
    "best_params_jpyusd = study_jpyusd.best_params\n",
    "model_jpyusd = Sequential()\n",
    "model_jpyusd.add(LSTM(units=best_params_jpyusd['units'], return_sequences=True, input_shape=(X_train_jpyusd.shape[1], X_train_jpyusd.shape[2])))\n",
    "model_jpyusd.add(Dropout(best_params_jpyusd['dropout1']))\n",
    "model_jpyusd.add(LSTM(units=best_params_jpyusd['units']))\n",
    "model_jpyusd.add(Dropout(best_params_jpyusd['dropout2']))\n",
    "model_jpyusd.add(Dense(1, activation='sigmoid'))\n",
    "\n",
    "model_jpyusd.compile(optimizer=tf.keras.optimizers.Adam(learning_rate=best_params_jpyusd['lr']), loss='binary_crossentropy', metrics=['accuracy'])\n",
    "\n",
    "model_jpyusd.fit(X_train_jpyusd, y_train_jpyusd, epochs=best_params_jpyusd['epochs'], batch_size=best_params_jpyusd['batch_size'], verbose=1)\n"
   ]
  },
  {
   "cell_type": "code",
   "execution_count": 52,
   "metadata": {},
   "outputs": [
    {
     "name": "stdout",
     "output_type": "stream",
     "text": [
      "\u001b[1m31/31\u001b[0m \u001b[32m━━━━━━━━━━━━━━━━━━━━\u001b[0m\u001b[37m\u001b[0m \u001b[1m0s\u001b[0m 5ms/step - accuracy: 0.5121 - loss: 0.6929\n",
      "Model Accuracy for JPY/USD: 0.5292929410934448\n"
     ]
    }
   ],
   "source": [
    "# Evaluar el modelo\n",
    "loss_jpyusd, accuracy_jpyusd = model_jpyusd.evaluate(X_test_jpyusd, y_test_jpyusd)\n",
    "print(f'Model Accuracy for JPY/USD: {accuracy_jpyusd}')\n"
   ]
  },
  {
   "cell_type": "code",
   "execution_count": 53,
   "metadata": {},
   "outputs": [
    {
     "name": "stdout",
     "output_type": "stream",
     "text": [
      "\u001b[1m31/31\u001b[0m \u001b[32m━━━━━━━━━━━━━━━━━━━━\u001b[0m\u001b[37m\u001b[0m \u001b[1m0s\u001b[0m 10ms/step\n"
     ]
    }
   ],
   "source": [
    "# Hacer predicciones en el conjunto de prueba\n",
    "y_pred_jpyusd = model_jpyusd.predict(X_test_jpyusd)\n",
    "y_pred_jpyusd = (y_pred_jpyusd > 0.5).astype(int)  # Convertir las probabilidades a etiquetas binarias\n"
   ]
  },
  {
   "cell_type": "code",
   "execution_count": 54,
   "metadata": {},
   "outputs": [
    {
     "data": {
      "image/png": "[encoded data removed]",
      "text/plain": [
       "<Figure size 640x480 with 2 Axes>"
      ]
     },
     "metadata": {},
     "output_type": "display_data"
    }
   ],
   "source": [
    "# Generar la matriz de confusión\n",
    "cm_jpyusd = confusion_matrix(y_test_jpyusd, y_pred_jpyusd)\n",
    "\n",
    "# Mostrar la matriz de confusión\n",
    "disp_jpyusd = ConfusionMatrixDisplay(confusion_matrix=cm_jpyusd, display_labels=[0, 1])\n",
    "disp_jpyusd.plot(cmap=plt.cm.Blues)\n",
    "plt.title('Confusion Matrix for JPY/USD')\n",
    "plt.show()\n"
   ]
  },
  {
   "cell_type": "markdown",
   "metadata": {},
   "source": [
    "# GBPUSD"
   ]
  },
  {
   "cell_type": "code",
   "execution_count": 58,
   "metadata": {},
   "outputs": [],
   "source": [
    "# Seleccionar las características y los objetivos\n",
    "features = data[['eurusd', 'jpyusd', 'nq', 'sp500', 'nikkei', 'ftse', 'gdp_us',\n",
    "       'gdp_uk', 'gdp_jp', 'gdp_ez', 'unrate_us', 'unrate_uk', 'unrate_jp',\n",
    "       'unrate_ez', 'm0_us', 'm0_jp', 'm0_ez', 'ir_us', 'ir_uk',\n",
    "       'ir_deposit_ez', 'ir_lending_ez', 'ir_MRO_ez', 'ir_jp']]\n"
   ]
  },
  {
   "cell_type": "code",
   "execution_count": 59,
   "metadata": {},
   "outputs": [],
   "source": [
    "# Crear la columna objetivo: 1 si el precio sube, 0 si baja\n",
    "target_gbpusd = data['gbpusd']\n",
    "target_shifted_gbpusd = target_gbpusd.shift(-1)\n",
    "target_direction_gbpusd = (target_shifted_gbpusd > target_gbpusd).astype(int)\n",
    "target_direction_gbpusd = target_direction_gbpusd[:-1]  # Eliminar el último valor que será NaN por el shift\n",
    "\n",
    "features_gbpusd = features[:-1]  # Alinear con el objetivo\n",
    "\n",
    "# Escalar los datos\n",
    "scaler_gbpusd = MinMaxScaler()\n",
    "features_scaled_gbpusd = scaler_gbpusd.fit_transform(features_gbpusd)\n",
    "\n",
    "# Crear las secuencias para LSTM\n",
    "X_gbpusd, y_gbpusd = create_sequences(features_scaled_gbpusd, target_direction_gbpusd.values, time_steps)\n",
    "\n",
    "# Dividir los datos en conjuntos de entrenamiento y prueba\n",
    "X_train_gbpusd, X_test_gbpusd, y_train_gbpusd, y_test_gbpusd = train_test_split(X_gbpusd, y_gbpusd, test_size=0.2, shuffle=False)\n"
   ]
  },
  {
   "cell_type": "code",
   "execution_count": 60,
   "metadata": {},
   "outputs": [],
   "source": [
    "# Función de objetivo para Optuna\n",
    "def objective_gbpusd(trial):\n",
    "    model = Sequential()\n",
    "    model.add(LSTM(units=trial.suggest_int('units', 50, 200), return_sequences=True, input_shape=(X_train_gbpusd.shape[1], X_train_gbpusd.shape[2])))\n",
    "    model.add(Dropout(trial.suggest_float('dropout1', 0.2, 0.5)))\n",
    "    model.add(LSTM(units=trial.suggest_int('units', 50, 200)))\n",
    "    model.add(Dropout(trial.suggest_float('dropout2', 0.2, 0.5)))\n",
    "    model.add(Dense(1, activation='sigmoid'))\n",
    "\n",
    "    model.compile(optimizer=tf.keras.optimizers.Adam(learning_rate=trial.suggest_float('lr', 1e-4, 1e-2)), loss='binary_crossentropy', metrics=['accuracy'])\n",
    "\n",
    "    model.fit(X_train_gbpusd, y_train_gbpusd, epochs=trial.suggest_int('epochs', 10, 50), batch_size=trial.suggest_int('batch_size', 16, 64), verbose=0)\n",
    "    loss, accuracy = model.evaluate(X_test_gbpusd, y_test_gbpusd, verbose=0)\n",
    "    return accuracy\n"
   ]
  },
  {
   "cell_type": "code",
   "execution_count": 61,
   "metadata": {},
   "outputs": [
    {
     "name": "stderr",
     "output_type": "stream",
     "text": [
      "[I 2024-06-03 22:08:44,207] A new study created in memory with name: no-name-ffcdd49a-11cb-4c6e-855a-ff3e76bbb057\n",
      "c:\\Users\\usuario\\anaconda3\\envs\\TFM\\lib\\site-packages\\keras\\src\\layers\\rnn\\rnn.py:204: UserWarning: Do not pass an `input_shape`/`input_dim` argument to a layer. When using Sequential models, prefer using an `Input(shape)` object as the first layer in the model instead.\n",
      "  super().__init__(**kwargs)\n",
      "[I 2024-06-03 22:08:53,311] Trial 0 finished with value: 0.5151515007019043 and parameters: {'units': 124, 'dropout1': 0.24941538851737075, 'dropout2': 0.2035639340700319, 'lr': 0.002725064003640551, 'epochs': 11, 'batch_size': 59}. Best is trial 0 with value: 0.5151515007019043.\n",
      "[I 2024-06-03 22:09:27,087] Trial 1 finished with value: 0.5151515007019043 and parameters: {'units': 77, 'dropout1': 0.34945486085995436, 'dropout2': 0.4830321280446854, 'lr': 0.007123718849454058, 'epochs': 36, 'batch_size': 16}. Best is trial 0 with value: 0.5151515007019043.\n",
      "[I 2024-06-03 22:09:54,437] Trial 2 finished with value: 0.4848484992980957 and parameters: {'units': 172, 'dropout1': 0.4190616095605374, 'dropout2': 0.4815109540282029, 'lr': 0.005880240944951457, 'epochs': 30, 'batch_size': 55}. Best is trial 0 with value: 0.5151515007019043.\n",
      "[I 2024-06-03 22:10:04,666] Trial 3 finished with value: 0.48181816935539246 and parameters: {'units': 125, 'dropout1': 0.436912769820046, 'dropout2': 0.3292371450656416, 'lr': 0.0003140392096157923, 'epochs': 13, 'batch_size': 53}. Best is trial 0 with value: 0.5151515007019043.\n",
      "[I 2024-06-03 22:10:37,452] Trial 4 finished with value: 0.5151515007019043 and parameters: {'units': 116, 'dropout1': 0.4673675173361593, 'dropout2': 0.4430856166221937, 'lr': 0.007779895329891419, 'epochs': 32, 'batch_size': 19}. Best is trial 0 with value: 0.5151515007019043.\n",
      "[I 2024-06-03 22:11:01,095] Trial 5 finished with value: 0.5151515007019043 and parameters: {'units': 117, 'dropout1': 0.38943212035547525, 'dropout2': 0.4643170479261038, 'lr': 0.007967323827899752, 'epochs': 37, 'batch_size': 51}. Best is trial 0 with value: 0.5151515007019043.\n",
      "[I 2024-06-03 22:11:14,650] Trial 6 finished with value: 0.4848484992980957 and parameters: {'units': 137, 'dropout1': 0.4408302469646247, 'dropout2': 0.21330767692575445, 'lr': 0.009116240164458722, 'epochs': 10, 'batch_size': 19}. Best is trial 0 with value: 0.5151515007019043.\n",
      "[I 2024-06-03 22:11:43,761] Trial 7 finished with value: 0.5030303001403809 and parameters: {'units': 128, 'dropout1': 0.33034767290496825, 'dropout2': 0.34574285955644735, 'lr': 0.0012254103009617934, 'epochs': 31, 'batch_size': 34}. Best is trial 0 with value: 0.5151515007019043.\n",
      "[I 2024-06-03 22:12:19,159] Trial 8 finished with value: 0.5151515007019043 and parameters: {'units': 103, 'dropout1': 0.27717300850525656, 'dropout2': 0.33672628733894094, 'lr': 0.0029302784364989274, 'epochs': 47, 'batch_size': 34}. Best is trial 0 with value: 0.5151515007019043.\n",
      "[I 2024-06-03 22:13:03,229] Trial 9 finished with value: 0.5151515007019043 and parameters: {'units': 164, 'dropout1': 0.43582238913957805, 'dropout2': 0.41115408288566596, 'lr': 0.006647343603258613, 'epochs': 48, 'batch_size': 56}. Best is trial 0 with value: 0.5151515007019043.\n",
      "[I 2024-06-03 22:13:11,182] Trial 10 finished with value: 0.5151515007019043 and parameters: {'units': 51, 'dropout1': 0.20817160565070184, 'dropout2': 0.2153354024993937, 'lr': 0.004117569888999597, 'epochs': 19, 'batch_size': 63}. Best is trial 0 with value: 0.5151515007019043.\n",
      "[I 2024-06-03 22:13:23,994] Trial 11 finished with value: 0.5151515007019043 and parameters: {'units': 74, 'dropout1': 0.3132332170569503, 'dropout2': 0.27362810092474427, 'lr': 0.004572588910238534, 'epochs': 22, 'batch_size': 39}. Best is trial 0 with value: 0.5151515007019043.\n",
      "[I 2024-06-03 22:13:51,843] Trial 12 finished with value: 0.5151515007019043 and parameters: {'units': 84, 'dropout1': 0.26362493221507155, 'dropout2': 0.4130470827645619, 'lr': 0.0028137156829968505, 'epochs': 40, 'batch_size': 27}. Best is trial 0 with value: 0.5151515007019043.\n",
      "[I 2024-06-03 22:14:19,638] Trial 13 finished with value: 0.5151515007019043 and parameters: {'units': 199, 'dropout1': 0.3645182709144049, 'dropout2': 0.3864117304310629, 'lr': 0.009895066831133371, 'epochs': 23, 'batch_size': 47}. Best is trial 0 with value: 0.5151515007019043.\n",
      "[I 2024-06-03 22:14:33,015] Trial 14 finished with value: 0.5151515007019043 and parameters: {'units': 52, 'dropout1': 0.365258881585897, 'dropout2': 0.49991703855454894, 'lr': 0.005571914056951174, 'epochs': 41, 'batch_size': 64}. Best is trial 0 with value: 0.5151515007019043.\n",
      "[I 2024-06-03 22:14:48,245] Trial 15 finished with value: 0.5151515007019043 and parameters: {'units': 92, 'dropout1': 0.20157386858279316, 'dropout2': 0.2836403655966703, 'lr': 0.006358181570119987, 'epochs': 26, 'batch_size': 44}. Best is trial 0 with value: 0.5151515007019043.\n",
      "[I 2024-06-03 22:15:06,665] Trial 16 finished with value: 0.5151515007019043 and parameters: {'units': 150, 'dropout1': 0.29774530534186755, 'dropout2': 0.3857068600642888, 'lr': 0.003681311971602933, 'epochs': 15, 'batch_size': 25}. Best is trial 0 with value: 0.5151515007019043.\n",
      "[I 2024-06-03 22:15:25,760] Trial 17 finished with value: 0.5151515007019043 and parameters: {'units': 71, 'dropout1': 0.49143202633705063, 'dropout2': 0.45435426910453935, 'lr': 0.004975914326621369, 'epochs': 36, 'batch_size': 38}. Best is trial 0 with value: 0.5151515007019043.\n",
      "[I 2024-06-03 22:16:00,401] Trial 18 finished with value: 0.4515151381492615 and parameters: {'units': 101, 'dropout1': 0.3378170894101491, 'dropout2': 0.2976154256014325, 'lr': 0.0022410590168463872, 'epochs': 44, 'batch_size': 29}. Best is trial 0 with value: 0.5151515007019043.\n",
      "[I 2024-06-03 22:16:23,127] Trial 19 finished with value: 0.4848484992980957 and parameters: {'units': 145, 'dropout1': 0.24814336757997624, 'dropout2': 0.23609503000844628, 'lr': 0.0038541737987941318, 'epochs': 26, 'batch_size': 46}. Best is trial 0 with value: 0.5151515007019043.\n",
      "[I 2024-06-03 22:16:43,470] Trial 20 finished with value: 0.5151515007019043 and parameters: {'units': 192, 'dropout1': 0.2404700171509575, 'dropout2': 0.2580103129517243, 'lr': 0.004994529715273673, 'epochs': 17, 'batch_size': 59}. Best is trial 0 with value: 0.5151515007019043.\n",
      "[I 2024-06-03 22:17:28,143] Trial 21 finished with value: 0.5151515007019043 and parameters: {'units': 112, 'dropout1': 0.29151198813106705, 'dropout2': 0.4613139284467935, 'lr': 0.006776495599660041, 'epochs': 33, 'batch_size': 16}. Best is trial 0 with value: 0.5151515007019043.\n",
      "[I 2024-06-03 22:17:59,109] Trial 22 finished with value: 0.4848484992980957 and parameters: {'units': 72, 'dropout1': 0.3167088166829946, 'dropout2': 0.31098965906403664, 'lr': 0.007653939304815801, 'epochs': 35, 'batch_size': 21}. Best is trial 0 with value: 0.5151515007019043.\n",
      "[I 2024-06-03 22:18:34,910] Trial 23 finished with value: 0.4848484992980957 and parameters: {'units': 111, 'dropout1': 0.3496058362117239, 'dropout2': 0.4365950871926273, 'lr': 0.0077157353112706165, 'epochs': 26, 'batch_size': 16}. Best is trial 0 with value: 0.5151515007019043.\n",
      "[I 2024-06-03 22:19:03,814] Trial 24 finished with value: 0.5151515007019043 and parameters: {'units': 92, 'dropout1': 0.49721762214736687, 'dropout2': 0.36716763736410973, 'lr': 0.008749797282762236, 'epochs': 29, 'batch_size': 21}. Best is trial 0 with value: 0.5151515007019043.\n",
      "[I 2024-06-03 22:19:52,547] Trial 25 finished with value: 0.5151515007019043 and parameters: {'units': 157, 'dropout1': 0.3884080806250441, 'dropout2': 0.4982807638452999, 'lr': 0.007238015734310049, 'epochs': 37, 'batch_size': 31}. Best is trial 0 with value: 0.5151515007019043.\n",
      "[I 2024-06-03 22:20:42,582] Trial 26 finished with value: 0.5151515007019043 and parameters: {'units': 131, 'dropout1': 0.3044702884401104, 'dropout2': 0.44472037549671617, 'lr': 0.005787519065325185, 'epochs': 40, 'batch_size': 24}. Best is trial 0 with value: 0.5151515007019043.\n",
      "[I 2024-06-03 22:21:00,071] Trial 27 finished with value: 0.5151515007019043 and parameters: {'units': 64, 'dropout1': 0.3383685677131222, 'dropout2': 0.2022417662563625, 'lr': 0.008179264601038037, 'epochs': 33, 'batch_size': 42}. Best is trial 0 with value: 0.5151515007019043.\n",
      "[I 2024-06-03 22:22:02,260] Trial 28 finished with value: 0.5151515007019043 and parameters: {'units': 139, 'dropout1': 0.2834958145027802, 'dropout2': 0.4319764726277324, 'lr': 0.006969662422437821, 'epochs': 44, 'batch_size': 20}. Best is trial 0 with value: 0.5151515007019043.\n",
      "[I 2024-06-03 22:22:41,474] Trial 29 finished with value: 0.5151515007019043 and parameters: {'units': 173, 'dropout1': 0.46839277852823086, 'dropout2': 0.4752141114186139, 'lr': 0.005826914436625847, 'epochs': 30, 'batch_size': 35}. Best is trial 0 with value: 0.5151515007019043.\n",
      "[I 2024-06-03 22:22:54,420] Trial 30 finished with value: 0.5151515007019043 and parameters: {'units': 88, 'dropout1': 0.40431538652469895, 'dropout2': 0.4890321243395261, 'lr': 0.006241938248213907, 'epochs': 20, 'batch_size': 50}. Best is trial 0 with value: 0.5151515007019043.\n",
      "[I 2024-06-03 22:23:21,418] Trial 31 finished with value: 0.5151515007019043 and parameters: {'units': 114, 'dropout1': 0.39509357301199177, 'dropout2': 0.47190163894938025, 'lr': 0.008168147156210549, 'epochs': 38, 'batch_size': 59}. Best is trial 0 with value: 0.5151515007019043.\n",
      "[I 2024-06-03 22:23:47,702] Trial 32 finished with value: 0.5151515007019043 and parameters: {'units': 118, 'dropout1': 0.4179238128799761, 'dropout2': 0.472904146929856, 'lr': 0.007614101127290487, 'epochs': 34, 'batch_size': 52}. Best is trial 0 with value: 0.5151515007019043.\n",
      "[I 2024-06-03 22:24:06,732] Trial 33 finished with value: 0.5151515007019043 and parameters: {'units': 103, 'dropout1': 0.371701134904438, 'dropout2': 0.4582225389878595, 'lr': 0.008756234685396484, 'epochs': 28, 'batch_size': 58}. Best is trial 0 with value: 0.5151515007019043.\n",
      "[I 2024-06-03 22:24:34,621] Trial 34 finished with value: 0.5151515007019043 and parameters: {'units': 127, 'dropout1': 0.4490772610410385, 'dropout2': 0.4775896558074028, 'lr': 0.007186370942099173, 'epochs': 32, 'batch_size': 49}. Best is trial 0 with value: 0.5151515007019043.\n",
      "[I 2024-06-03 22:24:46,100] Trial 35 finished with value: 0.5151515007019043 and parameters: {'units': 120, 'dropout1': 0.4179992753244228, 'dropout2': 0.4230364868587426, 'lr': 0.009451633288916909, 'epochs': 13, 'batch_size': 53}. Best is trial 0 with value: 0.5151515007019043.\n",
      "[I 2024-06-03 22:24:57,985] Trial 36 finished with value: 0.4848484992980957 and parameters: {'units': 134, 'dropout1': 0.32330500006868623, 'dropout2': 0.3194347646843673, 'lr': 0.008342708299159379, 'epochs': 11, 'batch_size': 56}. Best is trial 0 with value: 0.5151515007019043.\n",
      "[I 2024-06-03 22:25:25,223] Trial 37 finished with value: 0.482828289270401 and parameters: {'units': 99, 'dropout1': 0.3820637042340444, 'dropout2': 0.4452500057115452, 'lr': 0.00019520452260626906, 'epochs': 43, 'batch_size': 61}. Best is trial 0 with value: 0.5151515007019043.\n",
      "[I 2024-06-03 22:26:19,717] Trial 38 finished with value: 0.5151515007019043 and parameters: {'units': 82, 'dropout1': 0.3537153564635991, 'dropout2': 0.34229049613020385, 'lr': 0.0008617290607857166, 'epochs': 38, 'batch_size': 17}. Best is trial 0 with value: 0.5151515007019043.\n",
      "[I 2024-06-03 22:27:19,878] Trial 39 finished with value: 0.5151515007019043 and parameters: {'units': 107, 'dropout1': 0.4031165310769052, 'dropout2': 0.4056612769138066, 'lr': 0.009294716927063039, 'epochs': 49, 'batch_size': 24}. Best is trial 0 with value: 0.5151515007019043.\n",
      "[I 2024-06-03 22:27:49,695] Trial 40 finished with value: 0.4848484992980957 and parameters: {'units': 122, 'dropout1': 0.4316522217757383, 'dropout2': 0.362433578362756, 'lr': 0.00671001581394889, 'epochs': 31, 'batch_size': 55}. Best is trial 0 with value: 0.5151515007019043.\n",
      "[I 2024-06-03 22:28:30,814] Trial 41 finished with value: 0.45252525806427 and parameters: {'units': 96, 'dropout1': 0.26849722478085514, 'dropout2': 0.32686097641668116, 'lr': 0.002442346386223109, 'epochs': 47, 'batch_size': 34}. Best is trial 0 with value: 0.5151515007019043.\n",
      "[I 2024-06-03 22:29:21,448] Trial 42 finished with value: 0.48585858941078186 and parameters: {'units': 80, 'dropout1': 0.2256549247224391, 'dropout2': 0.232198082835315, 'lr': 0.001808982973574994, 'epochs': 47, 'batch_size': 19}. Best is trial 0 with value: 0.5151515007019043.\n",
      "[I 2024-06-03 22:30:03,466] Trial 43 finished with value: 0.5151515007019043 and parameters: {'units': 107, 'dropout1': 0.2732667087676096, 'dropout2': 0.48742022186051664, 'lr': 0.003233637809010939, 'epochs': 42, 'batch_size': 31}. Best is trial 0 with value: 0.5151515007019043.\n",
      "[I 2024-06-03 22:30:37,833] Trial 44 finished with value: 0.5151515007019043 and parameters: {'units': 60, 'dropout1': 0.3038877650407517, 'dropout2': 0.4238154353422552, 'lr': 0.004540083677475856, 'epochs': 46, 'batch_size': 27}. Best is trial 0 with value: 0.5151515007019043.\n",
      "[I 2024-06-03 22:31:04,702] Trial 45 finished with value: 0.5151515007019043 and parameters: {'units': 137, 'dropout1': 0.25392659381762706, 'dropout2': 0.33861594034721704, 'lr': 0.005518316280367251, 'epochs': 24, 'batch_size': 38}. Best is trial 0 with value: 0.5151515007019043.\n",
      "[I 2024-06-03 22:31:49,667] Trial 46 finished with value: 0.5151515007019043 and parameters: {'units': 126, 'dropout1': 0.2814020261786861, 'dropout2': 0.3986191715007952, 'lr': 0.0034023214441729747, 'epochs': 50, 'batch_size': 42}. Best is trial 0 with value: 0.5151515007019043.\n",
      "[I 2024-06-03 22:32:17,577] Trial 47 finished with value: 0.49696969985961914 and parameters: {'units': 117, 'dropout1': 0.37747270353439455, 'dropout2': 0.27227167754991005, 'lr': 0.002955004821134553, 'epochs': 35, 'batch_size': 62}. Best is trial 0 with value: 0.5151515007019043.\n",
      "[I 2024-06-03 22:33:16,823] Trial 48 finished with value: 0.5151515007019043 and parameters: {'units': 143, 'dropout1': 0.33329201974454575, 'dropout2': 0.306001939790995, 'lr': 0.006332827888449915, 'epochs': 39, 'batch_size': 22}. Best is trial 0 with value: 0.5151515007019043.\n",
      "[I 2024-06-03 22:33:49,979] Trial 49 finished with value: 0.5151515007019043 and parameters: {'units': 93, 'dropout1': 0.31355482899604337, 'dropout2': 0.4611041407451589, 'lr': 0.001650395187298123, 'epochs': 28, 'batch_size': 18}. Best is trial 0 with value: 0.5151515007019043.\n"
     ]
    },
    {
     "name": "stdout",
     "output_type": "stream",
     "text": [
      "FrozenTrial(number=0, state=TrialState.COMPLETE, values=[0.5151515007019043], datetime_start=datetime.datetime(2024, 6, 3, 22, 8, 44, 208144), datetime_complete=datetime.datetime(2024, 6, 3, 22, 8, 53, 311828), params={'units': 124, 'dropout1': 0.24941538851737075, 'dropout2': 0.2035639340700319, 'lr': 0.002725064003640551, 'epochs': 11, 'batch_size': 59}, user_attrs={}, system_attrs={}, intermediate_values={}, distributions={'units': IntDistribution(high=200, log=False, low=50, step=1), 'dropout1': FloatDistribution(high=0.5, log=False, low=0.2, step=None), 'dropout2': FloatDistribution(high=0.5, log=False, low=0.2, step=None), 'lr': FloatDistribution(high=0.01, log=False, low=0.0001, step=None), 'epochs': IntDistribution(high=50, log=False, low=10, step=1), 'batch_size': IntDistribution(high=64, log=False, low=16, step=1)}, trial_id=0, value=None)\n"
     ]
    }
   ],
   "source": [
    "# Crear el estudio Optuna y optimizar\n",
    "study_gbpusd = optuna.create_study(direction='maximize')\n",
    "study_gbpusd.optimize(objective_gbpusd, n_trials=50)\n",
    "\n",
    "# Imprimir los mejores hiperparámetros\n",
    "print(study_gbpusd.best_trial)\n"
   ]
  },
  {
   "cell_type": "code",
   "execution_count": 62,
   "metadata": {},
   "outputs": [
    {
     "name": "stdout",
     "output_type": "stream",
     "text": [
      "Epoch 1/11\n",
      "\u001b[1m68/68\u001b[0m \u001b[32m━━━━━━━━━━━━━━━━━━━━\u001b[0m\u001b[37m\u001b[0m \u001b[1m3s\u001b[0m 11ms/step - accuracy: 0.5075 - loss: 0.6985\n",
      "Epoch 2/11\n",
      "\u001b[1m68/68\u001b[0m \u001b[32m━━━━━━━━━━━━━━━━━━━━\u001b[0m\u001b[37m\u001b[0m \u001b[1m1s\u001b[0m 11ms/step - accuracy: 0.4942 - loss: 0.6946\n",
      "Epoch 3/11\n",
      "\u001b[1m68/68\u001b[0m \u001b[32m━━━━━━━━━━━━━━━━━━━━\u001b[0m\u001b[37m\u001b[0m \u001b[1m1s\u001b[0m 11ms/step - accuracy: 0.5076 - loss: 0.6937\n",
      "Epoch 4/11\n",
      "\u001b[1m68/68\u001b[0m \u001b[32m━━━━━━━━━━━━━━━━━━━━\u001b[0m\u001b[37m\u001b[0m \u001b[1m1s\u001b[0m 11ms/step - accuracy: 0.4972 - loss: 0.6943\n",
      "Epoch 5/11\n",
      "\u001b[1m68/68\u001b[0m \u001b[32m━━━━━━━━━━━━━━━━━━━━\u001b[0m\u001b[37m\u001b[0m \u001b[1m1s\u001b[0m 11ms/step - accuracy: 0.5054 - loss: 0.6946\n",
      "Epoch 6/11\n",
      "\u001b[1m68/68\u001b[0m \u001b[32m━━━━━━━━━━━━━━━━━━━━\u001b[0m\u001b[37m\u001b[0m \u001b[1m1s\u001b[0m 11ms/step - accuracy: 0.5011 - loss: 0.6937\n",
      "Epoch 7/11\n",
      "\u001b[1m68/68\u001b[0m \u001b[32m━━━━━━━━━━━━━━━━━━━━\u001b[0m\u001b[37m\u001b[0m \u001b[1m1s\u001b[0m 12ms/step - accuracy: 0.5161 - loss: 0.6930\n",
      "Epoch 8/11\n",
      "\u001b[1m68/68\u001b[0m \u001b[32m━━━━━━━━━━━━━━━━━━━━\u001b[0m\u001b[37m\u001b[0m \u001b[1m1s\u001b[0m 12ms/step - accuracy: 0.5039 - loss: 0.6933\n",
      "Epoch 9/11\n",
      "\u001b[1m68/68\u001b[0m \u001b[32m━━━━━━━━━━━━━━━━━━━━\u001b[0m\u001b[37m\u001b[0m \u001b[1m1s\u001b[0m 12ms/step - accuracy: 0.4899 - loss: 0.6936\n",
      "Epoch 10/11\n",
      "\u001b[1m68/68\u001b[0m \u001b[32m━━━━━━━━━━━━━━━━━━━━\u001b[0m\u001b[37m\u001b[0m \u001b[1m1s\u001b[0m 11ms/step - accuracy: 0.5089 - loss: 0.6932\n",
      "Epoch 11/11\n",
      "\u001b[1m68/68\u001b[0m \u001b[32m━━━━━━━━━━━━━━━━━━━━\u001b[0m\u001b[37m\u001b[0m \u001b[1m1s\u001b[0m 12ms/step - accuracy: 0.4851 - loss: 0.6939\n"
     ]
    },
    {
     "data": {
      "text/plain": [
       "<keras.src.callbacks.history.History at 0x1587b5e5ae0>"
      ]
     },
     "execution_count": 62,
     "metadata": {},
     "output_type": "execute_result"
    }
   ],
   "source": [
    "# Entrenar el mejor modelo con los mejores hiperparámetros\n",
    "best_params_gbpusd = study_gbpusd.best_params\n",
    "model_gbpusd = Sequential()\n",
    "model_gbpusd.add(LSTM(units=best_params_gbpusd['units'], return_sequences=True, input_shape=(X_train_gbpusd.shape[1], X_train_gbpusd.shape[2])))\n",
    "model_gbpusd.add(Dropout(best_params_gbpusd['dropout1']))\n",
    "model_gbpusd.add(LSTM(units=best_params_gbpusd['units']))\n",
    "model_gbpusd.add(Dropout(best_params_gbpusd['dropout2']))\n",
    "model_gbpusd.add(Dense(1, activation='sigmoid'))\n",
    "\n",
    "model_gbpusd.compile(optimizer=tf.keras.optimizers.Adam(learning_rate=best_params_gbpusd['lr']), loss='binary_crossentropy', metrics=['accuracy'])\n",
    "\n",
    "model_gbpusd.fit(X_train_gbpusd, y_train_gbpusd, epochs=best_params_gbpusd['epochs'], batch_size=best_params_gbpusd['batch_size'], verbose=1)\n"
   ]
  },
  {
   "cell_type": "code",
   "execution_count": 63,
   "metadata": {},
   "outputs": [
    {
     "name": "stdout",
     "output_type": "stream",
     "text": [
      "\u001b[1m31/31\u001b[0m \u001b[32m━━━━━━━━━━━━━━━━━━━━\u001b[0m\u001b[37m\u001b[0m \u001b[1m0s\u001b[0m 4ms/step - accuracy: 0.4682 - loss: 0.6935\n",
      "Model Accuracy for GBP/USD: 0.4848484992980957\n"
     ]
    }
   ],
   "source": [
    "# Evaluar el modelo\n",
    "loss_gbpusd, accuracy_gbpusd = model_gbpusd.evaluate(X_test_gbpusd, y_test_gbpusd)\n",
    "print(f'Model Accuracy for GBP/USD: {accuracy_gbpusd}')\n"
   ]
  },
  {
   "cell_type": "code",
   "execution_count": 64,
   "metadata": {},
   "outputs": [
    {
     "name": "stdout",
     "output_type": "stream",
     "text": [
      "\u001b[1m31/31\u001b[0m \u001b[32m━━━━━━━━━━━━━━━━━━━━\u001b[0m\u001b[37m\u001b[0m \u001b[1m0s\u001b[0m 10ms/step\n"
     ]
    }
   ],
   "source": [
    "# Hacer predicciones en el conjunto de prueba\n",
    "y_pred_gbpusd = model_gbpusd.predict(X_test_gbpusd)\n",
    "y_pred_gbpusd = (y_pred_gbpusd > 0.5).astype(int)  # Convertir las probabilidades a etiquetas binarias\n"
   ]
  },
  {
   "cell_type": "code",
   "execution_count": 65,
   "metadata": {},
   "outputs": [
    {
     "data": {
      "image/png": "[encoded data removed]",
      "text/plain": [
       "<Figure size 640x480 with 2 Axes>"
      ]
     },
     "metadata": {},
     "output_type": "display_data"
    }
   ],
   "source": [
    "# Generar la matriz de confusión\n",
    "cm_gbpusd = confusion_matrix(y_test_gbpusd, y_pred_gbpusd)\n",
    "\n",
    "# Mostrar la matriz de confusión\n",
    "disp_gbpusd = ConfusionMatrixDisplay(confusion_matrix=cm_gbpusd, display_labels=[0, 1])\n",
    "disp_gbpusd.plot(cmap=plt.cm.Blues)\n",
    "plt.title('Confusion Matrix for GBP/USD')\n",
    "plt.show()\n"
   ]
  }
 ],
 "metadata": {
  "kernelspec": {
   "display_name": "TFM",
   "language": "python",
   "name": "python3"
  },
  "language_info": {
   "codemirror_mode": {
    "name": "ipython",
    "version": 3
   },
   "file_extension": ".py",
   "mimetype": "text/x-python",
   "name": "python",
   "nbconvert_exporter": "python",
   "pygments_lexer": "ipython3",
   "version": "3.10.13"
  }
 },
 "nbformat": 4,
 "nbformat_minor": 2
}
