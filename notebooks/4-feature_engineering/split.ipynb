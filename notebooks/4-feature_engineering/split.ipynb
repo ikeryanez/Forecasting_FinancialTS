{
 "cells": [
  {
   "cell_type": "code",
   "execution_count": 1,
   "metadata": {},
   "outputs": [],
   "source": [
    "import pandas as pd\n",
    "from sklearn.model_selection import train_test_split\n",
    "\n",
    "# Load the dataframe\n",
    "df = pd.read_csv('../../data/df_final.csv')\n",
    "\n",
    "# Convert date column to datetime\n",
    "df['date'] = pd.to_datetime(df['date'])\n",
    "\n",
    "# Sort by date\n",
    "df = df.sort_values(by='date')\n",
    "\n",
    "# Split data into train (70%) and remaining (30%)\n",
    "train_data, temp_data = train_test_split(df, train_size=0.7, shuffle=False)\n",
    "\n",
    "# Split remaining data into validation (50% of 30%) and test (50% of 30%)\n",
    "validation_data, test_data = train_test_split(temp_data, test_size=0.5, shuffle=False)"
   ]
  },
  {
   "cell_type": "code",
   "execution_count": 3,
   "metadata": {},
   "outputs": [],
   "source": [
    "train_data.to_csv('../5-models/train.csv', index=False)\n",
    "validation_data.to_csv('../5-models/validation.csv', index=False)\n",
    "test_data.to_csv('../5-models/test.csv', index=False)"
   ]
  }
 ],
 "metadata": {
  "kernelspec": {
   "display_name": "fts",
   "language": "python",
   "name": "python3"
  },
  "language_info": {
   "codemirror_mode": {
    "name": "ipython",
    "version": 3
   },
   "file_extension": ".py",
   "mimetype": "text/x-python",
   "name": "python",
   "nbconvert_exporter": "python",
   "pygments_lexer": "ipython3",
   "version": "3.10.14"
  }
 },
 "nbformat": 4,
 "nbformat_minor": 2
}
