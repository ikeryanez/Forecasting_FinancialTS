{
 "cells": [
  {
   "cell_type": "code",
   "execution_count": 2,
   "metadata": {},
   "outputs": [],
   "source": [
    "import pandas as pd"
   ]
  },
  {
   "cell_type": "markdown",
   "metadata": {},
   "source": [
    "# Lectura de datos"
   ]
  },
  {
   "cell_type": "code",
   "execution_count": 3,
   "metadata": {},
   "outputs": [],
   "source": [
    "cpi = pd.read_csv('cpi.csv')\n",
    "gdp = pd.read_csv('gdp.csv')\n",
    "nasdaq = pd.read_csv('nasdaq.csv')\n",
    "sp500 = pd.read_csv('sp500.csv')\n",
    "unrate = pd.read_csv('unrate.csv')\n",
    "usdeur = pd.read_csv('usdeur.csv')\n",
    "usdgbp = pd.read_csv('usdgbp.csv')"
   ]
  },
  {
   "cell_type": "code",
   "execution_count": 4,
   "metadata": {},
   "outputs": [],
   "source": [
    "nasdaq = nasdaq[['date', 'close']]\n",
    "sp500 = sp500[['date', 'close']]\n",
    "usdeur = usdeur[['date', 'close']]\n",
    "usdgbp = usdgbp[['date', 'close']]"
   ]
  },
  {
   "cell_type": "code",
   "execution_count": 5,
   "metadata": {},
   "outputs": [],
   "source": [
    "cpi = cpi.rename(columns={'0':'cpi'})\n",
    "gdp = gdp.rename(columns={'0':'gdp'})\n",
    "cpi = cpi.rename(columns={'0':'cpi'})\n",
    "nasdaq = nasdaq.rename(columns={'close':'nasdaq'})\n",
    "sp500 = sp500.rename(columns={'close':'sp500'})\n",
    "unrate = unrate.rename(columns={'0':'unrate'})\n",
    "usdeur = usdeur.rename(columns={'close':'usdeur'})\n",
    "usdgbp = usdgbp.rename(columns={'close':'usdgbp'})\n",
    "\n",
    "\n"
   ]
  },
  {
   "cell_type": "code",
   "execution_count": 6,
   "metadata": {},
   "outputs": [],
   "source": [
    "variables = [sp500, cpi, nasdaq, gdp, unrate, usdeur, usdgbp] "
   ]
  },
  {
   "cell_type": "code",
   "execution_count": 7,
   "metadata": {},
   "outputs": [
    {
     "name": "stdout",
     "output_type": "stream",
     "text": [
      "            date        sp500\n",
      "2512  2024-02-09  5026.609863\n",
      "2513  2024-02-12  5021.839844\n",
      "2514  2024-02-13  4953.169922\n",
      "2515  2024-02-14  5000.620117\n",
      "2516  2024-02-15  5008.899902\n",
      "            date      cpi\n",
      "3600  2023-12-28  308.742\n",
      "3601  2023-12-29  308.742\n",
      "3602  2023-12-30  308.742\n",
      "3603  2023-12-31  308.742\n",
      "3604  2024-01-01  309.685\n",
      "            date    nasdaq\n",
      "2512  2024-02-09  18039.25\n",
      "2513  2024-02-12  17965.00\n",
      "2514  2024-02-13  17676.75\n",
      "2515  2024-02-14  17881.00\n",
      "2516  2024-02-15  17898.00\n",
      "            date        gdp\n",
      "3508  2023-09-27  27610.128\n",
      "3509  2023-09-28  27610.128\n",
      "3510  2023-09-29  27610.128\n",
      "3511  2023-09-30  27610.128\n",
      "3512  2023-10-01  27938.831\n",
      "            date  unrate\n",
      "3600  2023-12-28     3.7\n",
      "3601  2023-12-29     3.7\n",
      "3602  2023-12-30     3.7\n",
      "3603  2023-12-31     3.7\n",
      "3604  2024-01-01     3.7\n",
      "                           date   usdeur\n",
      "2601  2024-02-09 00:00:00+00:00  0.92788\n",
      "2602  2024-02-12 00:00:00+00:00  0.92608\n",
      "2603  2024-02-13 00:00:00+00:00  0.92831\n",
      "2604  2024-02-14 00:00:00+00:00  0.93380\n",
      "2605  2024-02-15 00:00:00+00:00  0.92860\n",
      "                           date   usdgbp\n",
      "2601  2024-02-09 00:00:00+00:00  0.79236\n",
      "2602  2024-02-12 00:00:00+00:00  0.79131\n",
      "2603  2024-02-13 00:00:00+00:00  0.79192\n",
      "2604  2024-02-14 00:00:00+00:00  0.79424\n",
      "2605  2024-02-15 00:00:00+00:00  0.79469\n"
     ]
    }
   ],
   "source": [
    "for i in variables:\n",
    "    print(i.tail())"
   ]
  },
  {
   "cell_type": "markdown",
   "metadata": {},
   "source": [
    "# Convierto todas columnas 'date' a formato datetime64 y mergeo"
   ]
  },
  {
   "cell_type": "code",
   "execution_count": 11,
   "metadata": {},
   "outputs": [],
   "source": [
    "df = None\n",
    "for datasets in variables:\n",
    "    # Asegúrate de que la columna 'date' esté en formato de fecha\n",
    "    datasets['date'] = pd.to_datetime(datasets['date'], utc = True)\n",
    "    \n",
    "    # Realiza un merge\n",
    "    if df is None:\n",
    "        df = datasets\n",
    "    else:\n",
    "        df = pd.merge(df, datasets, on='date', how='left')\n",
    "\n"
   ]
  },
  {
   "cell_type": "code",
   "execution_count": 16,
   "metadata": {},
   "outputs": [],
   "source": [
    "prueba = pd.merge(sp500, usdeur, on='date', how='inner')"
   ]
  },
  {
   "cell_type": "code",
   "execution_count": 18,
   "metadata": {},
   "outputs": [],
   "source": [
    "df['usdeur'] = usdeur['usdeur']\n",
    "df['usdgbp'] = usdgbp['usdgbp']"
   ]
  }
 ],
 "metadata": {
  "kernelspec": {
   "display_name": "TFM",
   "language": "python",
   "name": "python3"
  },
  "language_info": {
   "codemirror_mode": {
    "name": "ipython",
    "version": 3
   },
   "file_extension": ".py",
   "mimetype": "text/x-python",
   "name": "python",
   "nbconvert_exporter": "python",
   "pygments_lexer": "ipython3",
   "version": "3.10.13"
  }
 },
 "nbformat": 4,
 "nbformat_minor": 2
}
