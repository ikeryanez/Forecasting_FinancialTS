{
 "cells": [
  {
   "cell_type": "code",
   "execution_count": 77,
   "metadata": {},
   "outputs": [],
   "source": [
    "import pandas as pd"
   ]
  },
  {
   "cell_type": "markdown",
   "metadata": {},
   "source": [
    "# Lectura de datos"
   ]
  },
  {
   "cell_type": "code",
   "execution_count": 78,
   "metadata": {},
   "outputs": [],
   "source": [
    "cpi = pd.read_csv('../../data/preparation/cpi.csv')\n",
    "gdp = pd.read_csv('../../data/preparation/gdp.csv')\n",
    "nasdaq = pd.read_csv('../../data/preparation/nasdaq.csv')\n",
    "sp500 = pd.read_csv('../../data/preparation/sp500.csv')\n",
    "unrate = pd.read_csv('../../data/preparation/unrate.csv')\n",
    "usdeur = pd.read_csv('../../data/preparation/usdeur.csv')\n",
    "usdgbp = pd.read_csv('../../data/preparation/usdgbp.csv')"
   ]
  },
  {
   "cell_type": "code",
   "execution_count": 79,
   "metadata": {},
   "outputs": [],
   "source": [
    "nasdaq = nasdaq[['date', 'close']]\n",
    "sp500 = sp500[['date', 'close']]\n",
    "usdeur = usdeur[['date', 'close']]\n",
    "usdgbp = usdgbp[['date', 'close']]"
   ]
  },
  {
   "cell_type": "code",
   "execution_count": 80,
   "metadata": {},
   "outputs": [
    {
     "data": {
      "text/html": [
       "<div>\n",
       "<style scoped>\n",
       "    .dataframe tbody tr th:only-of-type {\n",
       "        vertical-align: middle;\n",
       "    }\n",
       "\n",
       "    .dataframe tbody tr th {\n",
       "        vertical-align: top;\n",
       "    }\n",
       "\n",
       "    .dataframe thead th {\n",
       "        text-align: right;\n",
       "    }\n",
       "</style>\n",
       "<table border=\"1\" class=\"dataframe\">\n",
       "  <thead>\n",
       "    <tr style=\"text-align: right;\">\n",
       "      <th></th>\n",
       "      <th>date</th>\n",
       "      <th>close</th>\n",
       "    </tr>\n",
       "  </thead>\n",
       "  <tbody>\n",
       "    <tr>\n",
       "      <th>1</th>\n",
       "      <td>2014-02-18 00:00:00+00:00</td>\n",
       "      <td>0.72969</td>\n",
       "    </tr>\n",
       "    <tr>\n",
       "      <th>2</th>\n",
       "      <td>2014-02-19 00:00:00+00:00</td>\n",
       "      <td>0.72664</td>\n",
       "    </tr>\n",
       "    <tr>\n",
       "      <th>3</th>\n",
       "      <td>2014-02-20 00:00:00+00:00</td>\n",
       "      <td>0.72831</td>\n",
       "    </tr>\n",
       "    <tr>\n",
       "      <th>4</th>\n",
       "      <td>2014-02-21 00:00:00+00:00</td>\n",
       "      <td>0.72880</td>\n",
       "    </tr>\n",
       "    <tr>\n",
       "      <th>5</th>\n",
       "      <td>2014-02-24 00:00:00+00:00</td>\n",
       "      <td>0.72791</td>\n",
       "    </tr>\n",
       "    <tr>\n",
       "      <th>...</th>\n",
       "      <td>...</td>\n",
       "      <td>...</td>\n",
       "    </tr>\n",
       "    <tr>\n",
       "      <th>2601</th>\n",
       "      <td>2024-02-09 00:00:00+00:00</td>\n",
       "      <td>0.92788</td>\n",
       "    </tr>\n",
       "    <tr>\n",
       "      <th>2602</th>\n",
       "      <td>2024-02-12 00:00:00+00:00</td>\n",
       "      <td>0.92608</td>\n",
       "    </tr>\n",
       "    <tr>\n",
       "      <th>2603</th>\n",
       "      <td>2024-02-13 00:00:00+00:00</td>\n",
       "      <td>0.92831</td>\n",
       "    </tr>\n",
       "    <tr>\n",
       "      <th>2604</th>\n",
       "      <td>2024-02-14 00:00:00+00:00</td>\n",
       "      <td>0.93380</td>\n",
       "    </tr>\n",
       "    <tr>\n",
       "      <th>2605</th>\n",
       "      <td>2024-02-15 00:00:00+00:00</td>\n",
       "      <td>0.92860</td>\n",
       "    </tr>\n",
       "  </tbody>\n",
       "</table>\n",
       "<p>2605 rows × 2 columns</p>\n",
       "</div>"
      ],
      "text/plain": [
       "                           date    close\n",
       "1     2014-02-18 00:00:00+00:00  0.72969\n",
       "2     2014-02-19 00:00:00+00:00  0.72664\n",
       "3     2014-02-20 00:00:00+00:00  0.72831\n",
       "4     2014-02-21 00:00:00+00:00  0.72880\n",
       "5     2014-02-24 00:00:00+00:00  0.72791\n",
       "...                         ...      ...\n",
       "2601  2024-02-09 00:00:00+00:00  0.92788\n",
       "2602  2024-02-12 00:00:00+00:00  0.92608\n",
       "2603  2024-02-13 00:00:00+00:00  0.92831\n",
       "2604  2024-02-14 00:00:00+00:00  0.93380\n",
       "2605  2024-02-15 00:00:00+00:00  0.92860\n",
       "\n",
       "[2605 rows x 2 columns]"
      ]
     },
     "execution_count": 80,
     "metadata": {},
     "output_type": "execute_result"
    }
   ],
   "source": [
    "usdeur.drop(0)"
   ]
  },
  {
   "cell_type": "code",
   "execution_count": 81,
   "metadata": {},
   "outputs": [
    {
     "data": {
      "text/html": [
       "<div>\n",
       "<style scoped>\n",
       "    .dataframe tbody tr th:only-of-type {\n",
       "        vertical-align: middle;\n",
       "    }\n",
       "\n",
       "    .dataframe tbody tr th {\n",
       "        vertical-align: top;\n",
       "    }\n",
       "\n",
       "    .dataframe thead th {\n",
       "        text-align: right;\n",
       "    }\n",
       "</style>\n",
       "<table border=\"1\" class=\"dataframe\">\n",
       "  <thead>\n",
       "    <tr style=\"text-align: right;\">\n",
       "      <th></th>\n",
       "      <th>date</th>\n",
       "      <th>close</th>\n",
       "    </tr>\n",
       "  </thead>\n",
       "  <tbody>\n",
       "    <tr>\n",
       "      <th>0</th>\n",
       "      <td>2014-02-17 00:00:00+00:00</td>\n",
       "      <td>0.72993</td>\n",
       "    </tr>\n",
       "    <tr>\n",
       "      <th>1</th>\n",
       "      <td>2014-02-18 00:00:00+00:00</td>\n",
       "      <td>0.72969</td>\n",
       "    </tr>\n",
       "    <tr>\n",
       "      <th>2</th>\n",
       "      <td>2014-02-19 00:00:00+00:00</td>\n",
       "      <td>0.72664</td>\n",
       "    </tr>\n",
       "    <tr>\n",
       "      <th>3</th>\n",
       "      <td>2014-02-20 00:00:00+00:00</td>\n",
       "      <td>0.72831</td>\n",
       "    </tr>\n",
       "    <tr>\n",
       "      <th>4</th>\n",
       "      <td>2014-02-21 00:00:00+00:00</td>\n",
       "      <td>0.72880</td>\n",
       "    </tr>\n",
       "    <tr>\n",
       "      <th>...</th>\n",
       "      <td>...</td>\n",
       "      <td>...</td>\n",
       "    </tr>\n",
       "    <tr>\n",
       "      <th>2601</th>\n",
       "      <td>2024-02-09 00:00:00+00:00</td>\n",
       "      <td>0.92788</td>\n",
       "    </tr>\n",
       "    <tr>\n",
       "      <th>2602</th>\n",
       "      <td>2024-02-12 00:00:00+00:00</td>\n",
       "      <td>0.92608</td>\n",
       "    </tr>\n",
       "    <tr>\n",
       "      <th>2603</th>\n",
       "      <td>2024-02-13 00:00:00+00:00</td>\n",
       "      <td>0.92831</td>\n",
       "    </tr>\n",
       "    <tr>\n",
       "      <th>2604</th>\n",
       "      <td>2024-02-14 00:00:00+00:00</td>\n",
       "      <td>0.93380</td>\n",
       "    </tr>\n",
       "    <tr>\n",
       "      <th>2605</th>\n",
       "      <td>2024-02-15 00:00:00+00:00</td>\n",
       "      <td>0.92860</td>\n",
       "    </tr>\n",
       "  </tbody>\n",
       "</table>\n",
       "<p>2606 rows × 2 columns</p>\n",
       "</div>"
      ],
      "text/plain": [
       "                           date    close\n",
       "0     2014-02-17 00:00:00+00:00  0.72993\n",
       "1     2014-02-18 00:00:00+00:00  0.72969\n",
       "2     2014-02-19 00:00:00+00:00  0.72664\n",
       "3     2014-02-20 00:00:00+00:00  0.72831\n",
       "4     2014-02-21 00:00:00+00:00  0.72880\n",
       "...                         ...      ...\n",
       "2601  2024-02-09 00:00:00+00:00  0.92788\n",
       "2602  2024-02-12 00:00:00+00:00  0.92608\n",
       "2603  2024-02-13 00:00:00+00:00  0.92831\n",
       "2604  2024-02-14 00:00:00+00:00  0.93380\n",
       "2605  2024-02-15 00:00:00+00:00  0.92860\n",
       "\n",
       "[2606 rows x 2 columns]"
      ]
     },
     "execution_count": 81,
     "metadata": {},
     "output_type": "execute_result"
    }
   ],
   "source": [
    "usdeur"
   ]
  },
  {
   "cell_type": "code",
   "execution_count": 82,
   "metadata": {},
   "outputs": [],
   "source": [
    "cpi = cpi.rename(columns={'0':'cpi'})\n",
    "gdp = gdp.rename(columns={'0':'gdp'})\n",
    "cpi = cpi.rename(columns={'0':'cpi'})\n",
    "nasdaq = nasdaq.rename(columns={'close':'nasdaq'})\n",
    "sp500 = sp500.rename(columns={'close':'sp500'})\n",
    "unrate = unrate.rename(columns={'0':'unrate'})\n",
    "usdeur = usdeur.rename(columns={'close':'usdeur'}).drop(0).reset_index(drop=True)\n",
    "usdgbp = usdgbp.rename(columns={'close':'usdgbp'}).drop(0).reset_index(drop=True)\n",
    "\n",
    "\n"
   ]
  },
  {
   "cell_type": "code",
   "execution_count": 83,
   "metadata": {},
   "outputs": [],
   "source": [
    "variables = [sp500, cpi,gdp, nasdaq, unrate, usdeur, usdgbp]"
   ]
  },
  {
   "cell_type": "markdown",
   "metadata": {},
   "source": [
    "# Convierto todas columnas 'date' a formato datetime64 y mergeo"
   ]
  },
  {
   "cell_type": "code",
   "execution_count": 84,
   "metadata": {},
   "outputs": [],
   "source": [
    "df = None\n",
    "for datasets in variables:\n",
    "    # Asegúrate de que la columna 'date' esté en formato de fecha\n",
    "    datasets['date'] = pd.to_datetime(datasets['date'], utc=True)\n",
    "    \n",
    "    # Realiza un merge\n",
    "    if df is None:\n",
    "        df = datasets\n",
    "    else:\n",
    "        df = pd.merge(df, datasets, on='date', how='left')\n",
    "\n"
   ]
  },
  {
   "cell_type": "code",
   "execution_count": 85,
   "metadata": {},
   "outputs": [],
   "source": [
    "df['date'] = df['date'].dt.strftime('%Y-%m-%d')"
   ]
  },
  {
   "cell_type": "code",
   "execution_count": 86,
   "metadata": {},
   "outputs": [],
   "source": [
    "df['usdeur'] = usdeur['usdeur']\n",
    "df['usdgbp'] = usdgbp['usdgbp']"
   ]
  },
  {
   "cell_type": "code",
   "execution_count": 87,
   "metadata": {},
   "outputs": [],
   "source": [
    "# Filtrar las observaciones posteriores a 2023-12-29\n",
    "df_no24 = df[df['date'] <= '2023-12-29']"
   ]
  },
  {
   "cell_type": "code",
   "execution_count": 90,
   "metadata": {},
   "outputs": [
    {
     "name": "stderr",
     "output_type": "stream",
     "text": [
      "C:\\Users\\usuario\\AppData\\Local\\Temp\\ipykernel_20036\\4186121726.py:1: FutureWarning: DataFrame.fillna with 'method' is deprecated and will raise in a future version. Use obj.ffill() or obj.bfill() instead.\n",
      "  df_no24.fillna(method='ffill', inplace=True, limit=None, axis=None, downcast=None)\n",
      "C:\\Users\\usuario\\AppData\\Local\\Temp\\ipykernel_20036\\4186121726.py:1: FutureWarning: The 'downcast' keyword in fillna is deprecated and will be removed in a future version. Use res.infer_objects(copy=False) to infer non-object dtype, or pd.to_numeric with the 'downcast' keyword to downcast numeric results.\n",
      "  df_no24.fillna(method='ffill', inplace=True, limit=None, axis=None, downcast=None)\n",
      "C:\\Users\\usuario\\AppData\\Local\\Temp\\ipykernel_20036\\4186121726.py:1: SettingWithCopyWarning: \n",
      "A value is trying to be set on a copy of a slice from a DataFrame\n",
      "\n",
      "See the caveats in the documentation: https://pandas.pydata.org/pandas-docs/stable/user_guide/indexing.html#returning-a-view-versus-a-copy\n",
      "  df_no24.fillna(method='ffill', inplace=True, limit=None, axis=None, downcast=None)\n"
     ]
    }
   ],
   "source": [
    "df_no24.fillna(method='ffill', inplace=True, limit=None, axis=None, downcast=None)"
   ]
  },
  {
   "cell_type": "code",
   "execution_count": 95,
   "metadata": {},
   "outputs": [],
   "source": [
    "df_no24.to_csv('../../data/preparation/df_no24.csv')"
   ]
  }
 ],
 "metadata": {
  "kernelspec": {
   "display_name": "TFM",
   "language": "python",
   "name": "python3"
  },
  "language_info": {
   "codemirror_mode": {
    "name": "ipython",
    "version": 3
   },
   "file_extension": ".py",
   "mimetype": "text/x-python",
   "name": "python",
   "nbconvert_exporter": "python",
   "pygments_lexer": "ipython3",
   "version": "3.10.13"
  }
 },
 "nbformat": 4,
 "nbformat_minor": 2
}
